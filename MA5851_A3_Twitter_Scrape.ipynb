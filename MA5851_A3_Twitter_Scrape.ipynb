{
 "cells": [
  {
   "cell_type": "markdown",
   "metadata": {},
   "source": [
    "# MA5851 Data Science Masterclass 1\n",
    "### Assignment 3: Webcrawler and NLP System\n",
    "### Laura Vodden"
   ]
  },
  {
   "cell_type": "markdown",
   "metadata": {},
   "source": [
    " \n",
    " \n",
    "  \n",
    "  \n",
    "  \n",
    " \n",
    " "
   ]
  },
  {
   "cell_type": "markdown",
   "metadata": {},
   "source": [
    "# Document 2. Twitter Scraper using Selenium\n",
    "####   \n",
    "##  Rationale\n",
    "### There is a gender imbalance in STEM careers (ref).  Such an imbalance should show up as bias in language data and this bias should therefore appear and may even amplify in any predictions made based on language data (Sun et al. 2019). \n",
    "### For this analysis, Twitter is the sole website from which data were extracted. This is because tweets provide a large number and wide range of language data relating to any conceivable topic. It is possible to scrape data from Twitter using specific search terms, allowing targeted collection of information and ensuring collected data are relevant to this investigation.\n",
    "\n",
    "### The reason for extracting web content from Twitter is that Twitter behaves as a largely uncensored (with exceptions), global-scale historical record from the perspective of everyday members of society, not just the powerful and privileged, as has been the case in the past (although, importantly, and in line with the topic of this report, Tweets written by people of colour are more likely to be flagged as offensive and removed by machine learning algorithms (Wei, 2020)). In 2020, 500 million tweets were published daily. Users from around the world post their uninhibited thoughts and feelings about all kinds of topics, and so Twitter can be treated as a repository of people’s opinions and attitudes, and therefore their personal biases, and on a grander scale, the biases of society, through time. This makes Twitter an ideal source of data for sentiment analysis and natural language processing in general (ref). Because this investigation seeks to research implicit gender bias in STEM-related topics, and because gender bias is a social issue, it is sensible to look for data where people produce a high volume of text relating to, in this case, STEM careers. \n",
    "\n",
    "### For this analysis, Twitter, data covers tweets containing hashtags relating to STEM (science/scientist, technology/technologist, engineering/engineer, and math/mathematics/mathematician), which also contain the gender pronouns (she/her/hers, he/him/his). For the purpose of this research, only these two binary genders are incorporated because…. The resulting dataframe comprised xx,xxx records of STEM-related tweets from April 14, 2021. The number of STEM tweets containing female pronouns vs male pronouns was investigated.\n",
    "####  \n",
    "####  \n",
    "## Methods\n",
    "### Webscraper\n",
    "### The data from Twitter were complicated to extract – why?. Due to the perpetual scrolling nature of the site, it was decided that the best way to scrape Tweet data would be using the Selenium package. Selenium works by automating web browser activity, replicating functions such as open, click and scroll (ref). The package requires installation of a driver to interface with a browser (Chrome was used here).\n",
    "\n",
    "### Selenium was used to open, navigate and enter a search term to scrape Tweet data while scrolling downwards, allowing new Tweets to appear. The xpath function was used to select specific data (Tweet, User, Date) from the HTML inspect navigation panel.\n",
    "\n",
    "### Tweets containing the specified search terms were extracted straight into several columns: Tweet, STEM hashtags, gender pronouns. From here, information was extracted from Tweets. Sentiment analysis was performed on each tweet to determine popular sentiment towards women in STEM.\n"
   ]
  },
  {
   "cell_type": "code",
   "execution_count": 2,
   "metadata": {},
   "outputs": [],
   "source": [
    "import pandas as pd\n",
    "import numpy as np\n",
    "from getpass import getpass\n",
    "from time import sleep\n",
    "from selenium import webdriver\n",
    "from selenium.webdriver.common.keys import Keys\n",
    "from selenium.common.exceptions import NoSuchElementException\n",
    "from selenium.common.exceptions import StaleElementReferenceException\n",
    "from webdriver_manager.chrome import ChromeDriverManager\n",
    "import csv\n",
    "import re\n",
    "import nltk\n",
    "import string\n",
    "from nltk.stem import WordNetLemmatizer \n",
    "import matplotlib.pyplot as plt"
   ]
  },
  {
   "cell_type": "code",
   "execution_count": 2,
   "metadata": {
    "scrolled": true
   },
   "outputs": [],
   "source": [
    "# Function to scrape Twitter using Selenium\n",
    "\n",
    "def get_tweet_data(card):\n",
    "    #Extract tweet data\n",
    "    #username\n",
    "    try:\n",
    "        username = card.find_element_by_xpath('.//span').text\n",
    "    except NoSuchElementException:\n",
    "        return\n",
    "    except StaleElementReferenceException:\n",
    "        return\n",
    "    #twitter handle\n",
    "    try:\n",
    "        handle = card.find_element_by_xpath('.//span[contains(text(), \"@\")]').text\n",
    "    except NoSuchElementException:\n",
    "        return\n",
    "    except StaleElementReferenceException:\n",
    "        return\n",
    "    #tweet text\n",
    "    try:\n",
    "        comment = card.find_element_by_xpath('.//div[2]/div[2]/div[1]').text\n",
    "        responding = card.find_element_by_xpath('.//div[2]/div[2]/div[2]').text\n",
    "        text = comment+responding\n",
    "    except NoSuchElementException:\n",
    "        return\n",
    "    except StaleElementReferenceException:\n",
    "        return\n",
    "    #reply count\n",
    "    try:\n",
    "        comment = card.find_element_by_xpath('//div[@data-testid=\"reply\"]').text\n",
    "    except NoSuchElementException:\n",
    "        return\n",
    "    except StaleElementReferenceException:\n",
    "        return\n",
    "    #retweet count\n",
    "    try:\n",
    "        retweet = card.find_element_by_xpath('//div[@data-testid=\"retweet\"]').text\n",
    "    except NoSuchElementException:\n",
    "        return\n",
    "    except StaleElementReferenceException:\n",
    "        return\n",
    "    #likes\n",
    "    try:\n",
    "        like = card.find_element_by_xpath('//div[@data-testid=\"like\"]').text\n",
    "    except NoSuchElementException:\n",
    "        return\n",
    "    except StaleElementReferenceException:\n",
    "        return\n",
    "    try:\n",
    "        #post date\n",
    "        date = card.find_element_by_xpath('.//time').get_attribute('datetime')\n",
    "    except NoSuchElementException:\n",
    "        return\n",
    "    except StaleElementReferenceException:\n",
    "        return\n",
    "    \n",
    "    tweet = (username, handle, text, comment, retweet, like, date)\n",
    "    return tweet \n",
    "\n",
    "# create instance of webdriver\n",
    "driver = webdriver.Chrome()\n",
    "driver.get('https://www.twitter.com/login')\n"
   ]
  },
  {
   "cell_type": "code",
   "execution_count": 3,
   "metadata": {},
   "outputs": [
    {
     "name": "stdout",
     "output_type": "stream",
     "text": [
      "········\n"
     ]
    }
   ],
   "source": [
    "#navigate to twitter and login\n",
    "username = driver.find_element_by_xpath('//input[@name=\"session[username_or_email]\"]')\n",
    "username.send_keys('laura.vodden@outlook.com')\n",
    "mypassword = getpass()\n",
    "\n",
    "password = driver.find_element_by_xpath('//input[@name=\"session[password]\"]')\n",
    "password.send_keys(mypassword)\n",
    "password.send_keys(Keys.RETURN)\n"
   ]
  },
  {
   "cell_type": "code",
   "execution_count": 5,
   "metadata": {},
   "outputs": [],
   "source": [
    "#find search input and search for term\n",
    "\n",
    "#navigte to 'explore' tab\n",
    "driver.find_element_by_xpath('//a[@data-testid=\"AppTabBar_Explore_Link\"]').click()\n",
    "\n",
    "search_input = driver.find_element_by_xpath('//input[@aria-label=\"Search query\"]')\n",
    "search_input.send_keys('(science OR technology OR engineering OR math OR mathematics OR scientist OR technologist OR engineer OR mathematician) (she OR her OR he OR him) -filter:retweets')\n",
    "search_input.send_keys(Keys.RETURN)\n",
    "\n",
    "#navigte to 'latest' tab\n",
    "driver.find_element_by_link_text('Latest').click()\n",
    "\n",
    "# get all tweets on the page\n",
    "data = []\n",
    "tweet_ids = set()\n",
    "last_position = driver.execute_script(\"return window.pageYOffset;\")\n",
    "scrolling = True\n",
    "\n",
    "while scrolling:\n",
    "    page_cards = driver.find_elements_by_xpath('//div[@data-testid=\"tweet\"]')\n",
    "    for card in page_cards[-15:]:\n",
    "        tweet = get_tweet_data(card)\n",
    "        if tweet:\n",
    "            tweet_id = ''.join(tweet)\n",
    "            if tweet_id not in tweet_ids:\n",
    "                tweet_ids.add(tweet_id)\n",
    "            data.append(tweet)\n",
    "    \n",
    "    scroll_attempt = 0\n",
    "    while True:\n",
    "        driver.execute_script('window.scrollTo(0, document.body.scrollHeight);')\n",
    "        sleep(1)\n",
    "        curr_position = driver.execute_script(\"return window.pageYOffset;\")\n",
    "        if last_position == curr_position:\n",
    "            scroll_attempt += 1\n",
    "            \n",
    "            #end of scroll region\n",
    "            if scroll_attempt >= 3:\n",
    "                scrolling = False\n",
    "                break\n",
    "            else:\n",
    "                sleep(2) # attempt to scroll again\n",
    "        else:\n",
    "            last_position = curr_position\n",
    "            break\n",
    "\n",
    "#save tweet data\n",
    "with open('stem_tweets_2.csv', 'w', newline='', encoding='utf-8') as f:\n",
    "    header = ['Username', 'Handle', 'Text', 'Comments', 'Retweets', 'Likes', 'Date']\n",
    "    writer = csv.writer(f)\n",
    "    writer.writerow(header)\n",
    "    writer.writerows(data)"
   ]
  },
  {
   "cell_type": "markdown",
   "metadata": {},
   "source": [
    "## Data processing\n",
    "### Data cleaning \n",
    "### There were several necessary steps involved in preparing the Tweet data for analysis using NLP methods. First, user handles were removed using a lambda function targeting the @ symbol before user handles. After this, the remaining punctuation was removed. Stop words were removed, and Tweets were Tokenised and Lemmatised. Rows containing blanks were excluded from the dataframe. \n",
    "### Furthermore, a new column was generated with values ‘M’ or ‘F’, corresponding to male or female, depending on which pronouns were present in the original Tweet.\n",
    "### The resulting dataframe contained 25,165 rows, with four columns containing the User Handle, the text of each Tweet, the tokenised and Lemmatised Tweet and Gender data.\n",
    "### The dataframe was saved as a .csv file for later use.\n"
   ]
  },
  {
   "cell_type": "code",
   "execution_count": 3,
   "metadata": {},
   "outputs": [
    {
     "data": {
      "text/html": [
       "<div>\n",
       "<style scoped>\n",
       "    .dataframe tbody tr th:only-of-type {\n",
       "        vertical-align: middle;\n",
       "    }\n",
       "\n",
       "    .dataframe tbody tr th {\n",
       "        vertical-align: top;\n",
       "    }\n",
       "\n",
       "    .dataframe thead th {\n",
       "        text-align: right;\n",
       "    }\n",
       "</style>\n",
       "<table border=\"1\" class=\"dataframe\">\n",
       "  <thead>\n",
       "    <tr style=\"text-align: right;\">\n",
       "      <th></th>\n",
       "      <th>Username</th>\n",
       "      <th>Handle</th>\n",
       "      <th>Text</th>\n",
       "      <th>Comments</th>\n",
       "      <th>Retweets</th>\n",
       "      <th>Likes</th>\n",
       "      <th>Date</th>\n",
       "    </tr>\n",
       "  </thead>\n",
       "  <tbody>\n",
       "    <tr>\n",
       "      <th>0</th>\n",
       "      <td>Angi</td>\n",
       "      <td>@AngiMaryssa</td>\n",
       "      <td>Blackwell is great. As a lawyer, you have to b...</td>\n",
       "      <td>NaN</td>\n",
       "      <td>NaN</td>\n",
       "      <td>NaN</td>\n",
       "      <td>2021-04-14T20:32:29.000Z</td>\n",
       "    </tr>\n",
       "    <tr>\n",
       "      <th>1</th>\n",
       "      <td>Señor Luis (1LUV)</td>\n",
       "      <td>@thiccbb69</td>\n",
       "      <td>math dumb af, if y=mx+b then y=tf don't she lo...</td>\n",
       "      <td>NaN</td>\n",
       "      <td>NaN</td>\n",
       "      <td>NaN</td>\n",
       "      <td>2021-04-14T20:32:24.000Z</td>\n",
       "    </tr>\n",
       "    <tr>\n",
       "      <th>2</th>\n",
       "      <td>Jared Halpern</td>\n",
       "      <td>@JaredEHalpern</td>\n",
       "      <td>Wow, he was a hell of an engineer --Grant Imah...</td>\n",
       "      <td>NaN</td>\n",
       "      <td>NaN</td>\n",
       "      <td>NaN</td>\n",
       "      <td>2021-04-14T20:32:23.000Z</td>\n",
       "    </tr>\n",
       "    <tr>\n",
       "      <th>3</th>\n",
       "      <td>Bob Brigham</td>\n",
       "      <td>@BobBrigham</td>\n",
       "      <td>Matt Kelley is so bad he thinks coronavirus is...</td>\n",
       "      <td>NaN</td>\n",
       "      <td>NaN</td>\n",
       "      <td>NaN</td>\n",
       "      <td>2021-04-14T20:32:10.000Z</td>\n",
       "    </tr>\n",
       "    <tr>\n",
       "      <th>4</th>\n",
       "      <td>AlaskanTzar</td>\n",
       "      <td>@AlaskanTzar</td>\n",
       "      <td>Replying to \\n@science_bradyBut he was?</td>\n",
       "      <td>NaN</td>\n",
       "      <td>NaN</td>\n",
       "      <td>NaN</td>\n",
       "      <td>2021-04-14T20:31:58.000Z</td>\n",
       "    </tr>\n",
       "  </tbody>\n",
       "</table>\n",
       "</div>"
      ],
      "text/plain": [
       "            Username          Handle  \\\n",
       "0               Angi    @AngiMaryssa   \n",
       "1  Señor Luis (1LUV)      @thiccbb69   \n",
       "2      Jared Halpern  @JaredEHalpern   \n",
       "3        Bob Brigham     @BobBrigham   \n",
       "4        AlaskanTzar    @AlaskanTzar   \n",
       "\n",
       "                                                Text Comments Retweets Likes  \\\n",
       "0  Blackwell is great. As a lawyer, you have to b...      NaN      NaN   NaN   \n",
       "1  math dumb af, if y=mx+b then y=tf don't she lo...      NaN      NaN   NaN   \n",
       "2  Wow, he was a hell of an engineer --Grant Imah...      NaN      NaN   NaN   \n",
       "3  Matt Kelley is so bad he thinks coronavirus is...      NaN      NaN   NaN   \n",
       "4            Replying to \\n@science_bradyBut he was?      NaN      NaN   NaN   \n",
       "\n",
       "                       Date  \n",
       "0  2021-04-14T20:32:29.000Z  \n",
       "1  2021-04-14T20:32:24.000Z  \n",
       "2  2021-04-14T20:32:23.000Z  \n",
       "3  2021-04-14T20:32:10.000Z  \n",
       "4  2021-04-14T20:31:58.000Z  "
      ]
     },
     "execution_count": 3,
     "metadata": {},
     "output_type": "execute_result"
    }
   ],
   "source": [
    "tweets_df = pd.read_csv(\"stem_tweets.csv\", dtype=object)\n",
    "tweets_df.head()"
   ]
  },
  {
   "cell_type": "code",
   "execution_count": 4,
   "metadata": {},
   "outputs": [
    {
     "data": {
      "text/plain": [
       "30284"
      ]
     },
     "execution_count": 4,
     "metadata": {},
     "output_type": "execute_result"
    }
   ],
   "source": [
    "len(tweets_df)"
   ]
  },
  {
   "cell_type": "code",
   "execution_count": 12,
   "metadata": {},
   "outputs": [],
   "source": [
    "# Remove handles\n",
    "tweets_df['Text'] =  tweets_df['Text'].apply(lambda x: re.sub('@[\\w]+','', str(x)))\n",
    "\n",
    "\n",
    "#Remove punctuation\n",
    "\n",
    "# remove 's, 'll, 'd  \n",
    "tweets_df['Text'] = tweets_df['Text'].str.replace(\"'s\",\"\")\n",
    "tweets_df['Text'] = tweets_df['Text'].str.replace(\"'ll\",\"\")\n",
    "tweets_df['Text'] = tweets_df['Text'].str.replace(\"'d\",\"\")\n",
    "tweets_df['Text'] = tweets_df['Text'].str.replace(\"Replying to \",\"\")\n",
    "tweets_df['Text'] = tweets_df['Text'].str.replace(\"\\n\",\"\")\n",
    " \n",
    "\n",
    "\n",
    "def remove_punctuation(text):\n",
    "    no_punct=[words for words in text if words not in string.punctuation]\n",
    "    words_wo_punct=''.join(no_punct)\n",
    "    return words_wo_punct\n",
    "\n",
    "tweets_df['Text']=tweets_df['Text'].apply(lambda x: remove_punctuation(x))\n",
    "\n",
    "\n",
    "\n",
    "# Tokenizing \n",
    "def tokenize(text):\n",
    "    split=re.split(\"\\W+\",text) \n",
    "    return split\n",
    "tweets_df['Text_Token']=tweets_df['Text'].apply(lambda x: tokenize(x.lower()))\n",
    "\n",
    "\n",
    "# Assign a gender to each tweet based on pronouns present\n",
    "tweets_df.loc[tweets_df['Text'].str.contains(' he '), 'Gender'] = 'M'\n",
    "tweets_df.loc[tweets_df['Text'].str.contains('He '), 'Gender'] = 'M'\n",
    "tweets_df.loc[tweets_df['Text'].str.contains(' him '), 'Gender'] = 'M'\n",
    "tweets_df.loc[tweets_df['Text'].str.contains(' she '), 'Gender'] = 'F'\n",
    "tweets_df.loc[tweets_df['Text'].str.contains('She'), 'Gender'] = 'F'\n",
    "tweets_df.loc[tweets_df['Text'].str.contains(' her '), 'Gender'] = 'F'\n",
    "\n",
    "# Assign a topic to each tweet based on topic in text\n",
    "tweets_df.loc[tweets_df['Text'].str.contains('science'), 'Topic'] = 'science'\n",
    "tweets_df.loc[tweets_df['Text'].str.contains('scientist'), 'Topic'] = 'science'\n",
    "tweets_df.loc[tweets_df['Text'].str.contains('technology '), 'Topic'] = 'technology'\n",
    "tweets_df.loc[tweets_df['Text'].str.contains('technogist'), 'Topic'] = 'technology'\n",
    "tweets_df.loc[tweets_df['Text'].str.contains('engineering'), 'Topic'] = 'engineering'\n",
    "tweets_df.loc[tweets_df['Text'].str.contains('engineer'), 'Topic'] = 'engineering'\n",
    "tweets_df.loc[tweets_df['Text'].str.contains('math'), 'Topic'] = 'mathematics'\n",
    "tweets_df.loc[tweets_df['Text'].str.contains('mathematics'), 'Topic'] = 'mathematics'\n",
    "tweets_df.loc[tweets_df['Text'].str.contains('mathematician'), 'Topic'] = 'mathematics'\n",
    "\n",
    "# Remove stop words\n",
    "stopword = nltk.corpus.stopwords.words('english')\n",
    "def remove_stopwords(text):\n",
    "    text=[word for word in text if word not in stopword]\n",
    "    return text\n",
    "tweets_df['Text_Token'] = tweets_df['Text_Token'].apply(lambda x: remove_stopwords(x))\n",
    "\n",
    "# Lemmatizing\n",
    "lemmatizer = WordNetLemmatizer()\n",
    "\n",
    "def lemmatize_text(text):\n",
    "    lemmatizer = WordNetLemmatizer()\n",
    "    return [lemmatizer.lemmatize(w) for w in text]\n",
    "\n",
    "tweets_df['Text_Token'] = tweets_df['Text_Token'].apply(lemmatize_text)\n",
    "#tweets_df['Text_Token'] = tweets_df['Text_Token'].str.replace(\"'',\",\"\")\n",
    "\n",
    "\n",
    "tweets_df = tweets_df[[\"Handle\", \"Text\", \"Text_Token\", \"Gender\", \"Topic\"]]\n",
    "\n",
    "\n",
    "# Drop any rows containing blanks\n",
    "tweets_df = tweets_df.replace(r'^\\s*$', np.nan, regex=True)\n",
    "tweets_df = tweets_df.dropna()"
   ]
  },
  {
   "cell_type": "code",
   "execution_count": 13,
   "metadata": {},
   "outputs": [
    {
     "data": {
      "text/html": [
       "<div>\n",
       "<style scoped>\n",
       "    .dataframe tbody tr th:only-of-type {\n",
       "        vertical-align: middle;\n",
       "    }\n",
       "\n",
       "    .dataframe tbody tr th {\n",
       "        vertical-align: top;\n",
       "    }\n",
       "\n",
       "    .dataframe thead th {\n",
       "        text-align: right;\n",
       "    }\n",
       "</style>\n",
       "<table border=\"1\" class=\"dataframe\">\n",
       "  <thead>\n",
       "    <tr style=\"text-align: right;\">\n",
       "      <th></th>\n",
       "      <th>Handle</th>\n",
       "      <th>Text</th>\n",
       "      <th>Text_Token</th>\n",
       "      <th>Gender</th>\n",
       "      <th>Topic</th>\n",
       "    </tr>\n",
       "  </thead>\n",
       "  <tbody>\n",
       "    <tr>\n",
       "      <th>0</th>\n",
       "      <td>@AngiMaryssa</td>\n",
       "      <td>Blackwell is great As a lawyer you have to bec...</td>\n",
       "      <td>[blackwell, great, lawyer, become, expert, com...</td>\n",
       "      <td>M</td>\n",
       "      <td>science</td>\n",
       "    </tr>\n",
       "    <tr>\n",
       "      <th>1</th>\n",
       "      <td>@thiccbb69</td>\n",
       "      <td>math dumb af if ymxb then ytf dont she love me</td>\n",
       "      <td>[math, dumb, af, ymxb, ytf, dont, love]</td>\n",
       "      <td>F</td>\n",
       "      <td>mathematics</td>\n",
       "    </tr>\n",
       "    <tr>\n",
       "      <th>2</th>\n",
       "      <td>@JaredEHalpern</td>\n",
       "      <td>Wow he was a hell of an engineer Grant Imahara...</td>\n",
       "      <td>[wow, hell, engineer, grant, imahara, talk, ro...</td>\n",
       "      <td>M</td>\n",
       "      <td>engineering</td>\n",
       "    </tr>\n",
       "    <tr>\n",
       "      <th>3</th>\n",
       "      <td>@BobBrigham</td>\n",
       "      <td>Matt Kelley is so bad he thinks coronavirus is...</td>\n",
       "      <td>[matt, kelley, bad, think, coronavirus, noctur...</td>\n",
       "      <td>M</td>\n",
       "      <td>science</td>\n",
       "    </tr>\n",
       "    <tr>\n",
       "      <th>5</th>\n",
       "      <td>@vomit_bestie</td>\n",
       "      <td>that math test i just took was my absolute bit...</td>\n",
       "      <td>[math, test, took, absolute, bitch, put, smack...</td>\n",
       "      <td>F</td>\n",
       "      <td>mathematics</td>\n",
       "    </tr>\n",
       "  </tbody>\n",
       "</table>\n",
       "</div>"
      ],
      "text/plain": [
       "           Handle                                               Text  \\\n",
       "0    @AngiMaryssa  Blackwell is great As a lawyer you have to bec...   \n",
       "1      @thiccbb69     math dumb af if ymxb then ytf dont she love me   \n",
       "2  @JaredEHalpern  Wow he was a hell of an engineer Grant Imahara...   \n",
       "3     @BobBrigham  Matt Kelley is so bad he thinks coronavirus is...   \n",
       "5   @vomit_bestie  that math test i just took was my absolute bit...   \n",
       "\n",
       "                                          Text_Token Gender        Topic  \n",
       "0  [blackwell, great, lawyer, become, expert, com...      M      science  \n",
       "1            [math, dumb, af, ymxb, ytf, dont, love]      F  mathematics  \n",
       "2  [wow, hell, engineer, grant, imahara, talk, ro...      M  engineering  \n",
       "3  [matt, kelley, bad, think, coronavirus, noctur...      M      science  \n",
       "5  [math, test, took, absolute, bitch, put, smack...      F  mathematics  "
      ]
     },
     "execution_count": 13,
     "metadata": {},
     "output_type": "execute_result"
    }
   ],
   "source": [
    "tweets_df.head()"
   ]
  },
  {
   "cell_type": "code",
   "execution_count": 14,
   "metadata": {},
   "outputs": [
    {
     "data": {
      "text/plain": [
       "17305"
      ]
     },
     "execution_count": 14,
     "metadata": {},
     "output_type": "execute_result"
    }
   ],
   "source": [
    "len(tweets_df)"
   ]
  },
  {
   "cell_type": "code",
   "execution_count": 15,
   "metadata": {},
   "outputs": [],
   "source": [
    "# Save to csv\n",
    "tweets_df.to_csv ('tweets_df.csv', index = None, header=True)"
   ]
  },
  {
   "cell_type": "markdown",
   "metadata": {},
   "source": [
    "## Data exploration\n",
    "### A preliminary exploration of the data shows that the dataset is very unbalanced in terms of gender representation. 66% of the STEM Tweets are about men, and 34% are about women."
   ]
  },
  {
   "cell_type": "code",
   "execution_count": 16,
   "metadata": {},
   "outputs": [
    {
     "name": "stdout",
     "output_type": "stream",
     "text": [
      "Percentage of STEM Tweets by gender\n",
      "M    0.665126\n",
      "F    0.334874\n",
      "Name: Gender, dtype: float64\n",
      "\n",
      "Count of STEM Tweets by gender\n",
      "M    11510\n",
      "F     5795\n",
      "Name: Gender, dtype: int64\n",
      "\n",
      "Total Tweets: 17305\n"
     ]
    },
    {
     "data": {
      "image/png": "[encoded data removed]",
      "text/plain": [
       "<Figure size 432x288 with 1 Axes>"
      ]
     },
     "metadata": {
      "needs_background": "light"
     },
     "output_type": "display_data"
    }
   ],
   "source": [
    "# Count tweets about women vs men\n",
    "print(\"Percentage of STEM Tweets by gender\")\n",
    "counts = tweets_df['Gender'].value_counts(normalize=True)\n",
    "print(counts)\n",
    "print()\n",
    "print(\"Count of STEM Tweets by gender\")\n",
    "counts = tweets_df['Gender'].value_counts()\n",
    "print(counts)\n",
    "print()\n",
    "print(\"Total Tweets:\", len(tweets_df))\n",
    "tweets_df.Gender.value_counts().plot(kind = 'bar')\n",
    "plt.title('STEM Tweet Counts by Gender')\n",
    "plt.xlabel('Gender')\n",
    "plt.ylabel('Count')\n",
    "plt.show()\n"
   ]
  },
  {
   "cell_type": "markdown",
   "metadata": {},
   "source": [
    "## Gender prediction using unbalanced dataset"
   ]
  },
  {
   "cell_type": "code",
   "execution_count": 17,
   "metadata": {},
   "outputs": [],
   "source": [
    "tweets_df = pd.read_csv(\"tweets_df.csv\", dtype=object)"
   ]
  },
  {
   "cell_type": "code",
   "execution_count": 18,
   "metadata": {
    "scrolled": true
   },
   "outputs": [
    {
     "data": {
      "text/html": [
       "<div>\n",
       "<style scoped>\n",
       "    .dataframe tbody tr th:only-of-type {\n",
       "        vertical-align: middle;\n",
       "    }\n",
       "\n",
       "    .dataframe tbody tr th {\n",
       "        vertical-align: top;\n",
       "    }\n",
       "\n",
       "    .dataframe thead th {\n",
       "        text-align: right;\n",
       "    }\n",
       "</style>\n",
       "<table border=\"1\" class=\"dataframe\">\n",
       "  <thead>\n",
       "    <tr style=\"text-align: right;\">\n",
       "      <th></th>\n",
       "      <th>Handle</th>\n",
       "      <th>Text</th>\n",
       "      <th>Text_Token</th>\n",
       "      <th>Gender</th>\n",
       "      <th>Topic</th>\n",
       "    </tr>\n",
       "  </thead>\n",
       "  <tbody>\n",
       "    <tr>\n",
       "      <th>0</th>\n",
       "      <td>@AngiMaryssa</td>\n",
       "      <td>Blackwell is great As a lawyer you have to bec...</td>\n",
       "      <td>['blackwell', 'great', 'lawyer', 'become', 'ex...</td>\n",
       "      <td>M</td>\n",
       "      <td>science</td>\n",
       "    </tr>\n",
       "    <tr>\n",
       "      <th>1</th>\n",
       "      <td>@thiccbb69</td>\n",
       "      <td>math dumb af if ymxb then ytf dont she love me</td>\n",
       "      <td>['math', 'dumb', 'af', 'ymxb', 'ytf', 'dont', ...</td>\n",
       "      <td>F</td>\n",
       "      <td>mathematics</td>\n",
       "    </tr>\n",
       "    <tr>\n",
       "      <th>2</th>\n",
       "      <td>@JaredEHalpern</td>\n",
       "      <td>Wow he was a hell of an engineer Grant Imahara...</td>\n",
       "      <td>['wow', 'hell', 'engineer', 'grant', 'imahara'...</td>\n",
       "      <td>M</td>\n",
       "      <td>engineering</td>\n",
       "    </tr>\n",
       "    <tr>\n",
       "      <th>3</th>\n",
       "      <td>@BobBrigham</td>\n",
       "      <td>Matt Kelley is so bad he thinks coronavirus is...</td>\n",
       "      <td>['matt', 'kelley', 'bad', 'think', 'coronaviru...</td>\n",
       "      <td>M</td>\n",
       "      <td>science</td>\n",
       "    </tr>\n",
       "    <tr>\n",
       "      <th>4</th>\n",
       "      <td>@vomit_bestie</td>\n",
       "      <td>that math test i just took was my absolute bit...</td>\n",
       "      <td>['math', 'test', 'took', 'absolute', 'bitch', ...</td>\n",
       "      <td>F</td>\n",
       "      <td>mathematics</td>\n",
       "    </tr>\n",
       "  </tbody>\n",
       "</table>\n",
       "</div>"
      ],
      "text/plain": [
       "           Handle                                               Text  \\\n",
       "0    @AngiMaryssa  Blackwell is great As a lawyer you have to bec...   \n",
       "1      @thiccbb69     math dumb af if ymxb then ytf dont she love me   \n",
       "2  @JaredEHalpern  Wow he was a hell of an engineer Grant Imahara...   \n",
       "3     @BobBrigham  Matt Kelley is so bad he thinks coronavirus is...   \n",
       "4   @vomit_bestie  that math test i just took was my absolute bit...   \n",
       "\n",
       "                                          Text_Token Gender        Topic  \n",
       "0  ['blackwell', 'great', 'lawyer', 'become', 'ex...      M      science  \n",
       "1  ['math', 'dumb', 'af', 'ymxb', 'ytf', 'dont', ...      F  mathematics  \n",
       "2  ['wow', 'hell', 'engineer', 'grant', 'imahara'...      M  engineering  \n",
       "3  ['matt', 'kelley', 'bad', 'think', 'coronaviru...      M      science  \n",
       "4  ['math', 'test', 'took', 'absolute', 'bitch', ...      F  mathematics  "
      ]
     },
     "execution_count": 18,
     "metadata": {},
     "output_type": "execute_result"
    }
   ],
   "source": [
    "tweets_df.head()"
   ]
  },
  {
   "cell_type": "code",
   "execution_count": 17,
   "metadata": {},
   "outputs": [],
   "source": []
  },
  {
   "cell_type": "markdown",
   "metadata": {},
   "source": [
    "## Website/data copyright considerations\n",
    "### Even though Tweets are protected under copyright, this is an academic exercise and, as such, scraping Tweet data from Twitter does not violate copyright laws.\n"
   ]
  }
 ],
 "metadata": {
  "kernelspec": {
   "display_name": "Python 3",
   "language": "python",
   "name": "python3"
  },
  "language_info": {
   "codemirror_mode": {
    "name": "ipython",
    "version": 3
   },
   "file_extension": ".py",
   "mimetype": "text/x-python",
   "name": "python",
   "nbconvert_exporter": "python",
   "pygments_lexer": "ipython3",
   "version": "3.8.3"
  }
 },
 "nbformat": 4,
 "nbformat_minor": 4
}
