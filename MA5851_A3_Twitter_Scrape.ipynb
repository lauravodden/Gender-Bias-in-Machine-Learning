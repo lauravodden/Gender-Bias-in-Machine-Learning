{
 "cells": [
  {
   "cell_type": "markdown",
   "metadata": {},
   "source": [
    "# MA5851 Data Science Masterclass 1\n",
    "### Assignment 3: Webcrawler and NLP System\n",
    "### Laura Vodden"
   ]
  },
  {
   "cell_type": "markdown",
   "metadata": {},
   "source": [
    " \n",
    " \n",
    "  \n",
    "  \n",
    "  \n",
    " \n",
    " "
   ]
  },
  {
   "cell_type": "markdown",
   "metadata": {},
   "source": [
    "## Step 1. Twitter Scraper using Selenium\n",
    "### The aim of this exercise is to extract STEM-related Tweets containing gender pronouns to investigate gender bias that may affect machine learning models."
   ]
  },
  {
   "cell_type": "code",
   "execution_count": 1,
   "metadata": {},
   "outputs": [],
   "source": [
    "import pandas as pd\n",
    "import numpy as np\n",
    "from getpass import getpass\n",
    "from time import sleep\n",
    "from selenium import webdriver\n",
    "from selenium.webdriver.common.keys import Keys\n",
    "from selenium.common.exceptions import NoSuchElementException\n",
    "from selenium.common.exceptions import StaleElementReferenceException\n",
    "from webdriver_manager.chrome import ChromeDriverManager\n",
    "import csv\n",
    "import re\n",
    "import nltk\n",
    "import string\n",
    "from nltk.stem import WordNetLemmatizer \n",
    "import matplotlib.pyplot as plt"
   ]
  },
  {
   "cell_type": "code",
   "execution_count": null,
   "metadata": {},
   "outputs": [],
   "source": []
  },
  {
   "cell_type": "code",
   "execution_count": 2,
   "metadata": {
    "scrolled": true
   },
   "outputs": [],
   "source": [
    "def get_tweet_data(card):\n",
    "    #Extract tweet data\n",
    "    #username\n",
    "    try:\n",
    "        username = card.find_element_by_xpath('.//span').text\n",
    "    except NoSuchElementException:\n",
    "        return\n",
    "    except StaleElementReferenceException:\n",
    "        return\n",
    "    #twitter handle\n",
    "    try:\n",
    "        handle = card.find_element_by_xpath('.//span[contains(text(), \"@\")]').text\n",
    "    except NoSuchElementException:\n",
    "        return\n",
    "    except StaleElementReferenceException:\n",
    "        return\n",
    "    #tweet text\n",
    "    try:\n",
    "        comment = card.find_element_by_xpath('.//div[2]/div[2]/div[1]').text\n",
    "        responding = card.find_element_by_xpath('.//div[2]/div[2]/div[2]').text\n",
    "        text = comment+responding\n",
    "    except NoSuchElementException:\n",
    "        return\n",
    "    except StaleElementReferenceException:\n",
    "        return\n",
    "    #reply count\n",
    "    try:\n",
    "        comment = card.find_element_by_xpath('//div[@data-testid=\"reply\"]').text\n",
    "    except NoSuchElementException:\n",
    "        return\n",
    "    except StaleElementReferenceException:\n",
    "        return\n",
    "    #retweet count\n",
    "    try:\n",
    "        retweet = card.find_element_by_xpath('//div[@data-testid=\"retweet\"]').text\n",
    "    except NoSuchElementException:\n",
    "        return\n",
    "    except StaleElementReferenceException:\n",
    "        return\n",
    "    #likes\n",
    "    try:\n",
    "        like = card.find_element_by_xpath('//div[@data-testid=\"like\"]').text\n",
    "    except NoSuchElementException:\n",
    "        return\n",
    "    except StaleElementReferenceException:\n",
    "        return\n",
    "    try:\n",
    "        #post date\n",
    "        date = card.find_element_by_xpath('.//time').get_attribute('datetime')\n",
    "    except NoSuchElementException:\n",
    "        return\n",
    "    except StaleElementReferenceException:\n",
    "        return\n",
    "    \n",
    "    tweet = (username, handle, text, comment, retweet, like, date)\n",
    "    return tweet \n",
    "\n",
    "# create instance of webdriver\n",
    "driver = webdriver.Chrome()\n",
    "driver.get('https://www.twitter.com/login')\n"
   ]
  },
  {
   "cell_type": "code",
   "execution_count": 3,
   "metadata": {},
   "outputs": [
    {
     "name": "stdout",
     "output_type": "stream",
     "text": [
      "········\n"
     ]
    }
   ],
   "source": [
    "#navigate to twitter and login\n",
    "username = driver.find_element_by_xpath('//input[@name=\"session[username_or_email]\"]')\n",
    "username.send_keys('email')\n",
    "mypassword = getpass()\n",
    "\n",
    "password = driver.find_element_by_xpath('//input[@name=\"session[password]\"]')\n",
    "password.send_keys(mypassword)\n",
    "password.send_keys(Keys.RETURN)\n"
   ]
  },
  {
   "cell_type": "code",
   "execution_count": 5,
   "metadata": {},
   "outputs": [],
   "source": [
    "#find search input and search for term\n",
    "\n",
    "#navigte to 'explore' tab\n",
    "driver.find_element_by_xpath('//a[@data-testid=\"AppTabBar_Explore_Link\"]').click()\n",
    "\n",
    "search_input = driver.find_element_by_xpath('//input[@aria-label=\"Search query\"]')\n",
    "search_input.send_keys('(science OR technology OR engineering OR math OR mathematics OR scientist OR technologist OR engineer OR mathematician) (she OR her OR he OR him) -filter:retweets')\n",
    "search_input.send_keys(Keys.RETURN)\n",
    "\n",
    "#navigte to 'latest' tab\n",
    "driver.find_element_by_link_text('Latest').click()\n",
    "\n",
    "# get all tweets on the page\n",
    "data = []\n",
    "tweet_ids = set()\n",
    "last_position = driver.execute_script(\"return window.pageYOffset;\")\n",
    "scrolling = True\n",
    "\n",
    "while scrolling:\n",
    "    page_cards = driver.find_elements_by_xpath('//div[@data-testid=\"tweet\"]')\n",
    "    for card in page_cards[-15:]:\n",
    "        tweet = get_tweet_data(card)\n",
    "        if tweet:\n",
    "            tweet_id = ''.join(tweet)\n",
    "            if tweet_id not in tweet_ids:\n",
    "                tweet_ids.add(tweet_id)\n",
    "            data.append(tweet)\n",
    "    \n",
    "    scroll_attempt = 0\n",
    "    while True:\n",
    "        driver.execute_script('window.scrollTo(0, document.body.scrollHeight);')\n",
    "        sleep(1)\n",
    "        curr_position = driver.execute_script(\"return window.pageYOffset;\")\n",
    "        if last_position == curr_position:\n",
    "            scroll_attempt += 1\n",
    "            \n",
    "            #end of scroll region\n",
    "            if scroll_attempt >= 3:\n",
    "                scrolling = False\n",
    "                break\n",
    "            else:\n",
    "                sleep(2) # attempt to scroll again\n",
    "        else:\n",
    "            last_position = curr_position\n",
    "            break\n",
    "\n",
    "#save tweet data\n",
    "with open('stem_tweets_2.csv', 'w', newline='', encoding='utf-8') as f:\n",
    "    header = ['Username', 'Handle', 'Text', 'Comments', 'Retweets', 'Likes', 'Date']\n",
    "    writer = csv.writer(f)\n",
    "    writer.writerow(header)\n",
    "    writer.writerows(data)"
   ]
  },
  {
   "cell_type": "markdown",
   "metadata": {},
   "source": [
    "## Step 2. Data cleaning"
   ]
  },
  {
   "cell_type": "code",
   "execution_count": 32,
   "metadata": {},
   "outputs": [
    {
     "data": {
      "text/html": [
       "<div>\n",
       "<style scoped>\n",
       "    .dataframe tbody tr th:only-of-type {\n",
       "        vertical-align: middle;\n",
       "    }\n",
       "\n",
       "    .dataframe tbody tr th {\n",
       "        vertical-align: top;\n",
       "    }\n",
       "\n",
       "    .dataframe thead th {\n",
       "        text-align: right;\n",
       "    }\n",
       "</style>\n",
       "<table border=\"1\" class=\"dataframe\">\n",
       "  <thead>\n",
       "    <tr style=\"text-align: right;\">\n",
       "      <th></th>\n",
       "      <th>Username</th>\n",
       "      <th>Handle</th>\n",
       "      <th>Text</th>\n",
       "      <th>Comments</th>\n",
       "      <th>Retweets</th>\n",
       "      <th>Likes</th>\n",
       "      <th>Date</th>\n",
       "    </tr>\n",
       "  </thead>\n",
       "  <tbody>\n",
       "    <tr>\n",
       "      <th>0</th>\n",
       "      <td>Angi</td>\n",
       "      <td>@AngiMaryssa</td>\n",
       "      <td>Blackwell is great. As a lawyer, you have to b...</td>\n",
       "      <td>NaN</td>\n",
       "      <td>NaN</td>\n",
       "      <td>NaN</td>\n",
       "      <td>2021-04-14T20:32:29.000Z</td>\n",
       "    </tr>\n",
       "    <tr>\n",
       "      <th>1</th>\n",
       "      <td>Señor Luis (1LUV)</td>\n",
       "      <td>@thiccbb69</td>\n",
       "      <td>math dumb af, if y=mx+b then y=tf don't she lo...</td>\n",
       "      <td>NaN</td>\n",
       "      <td>NaN</td>\n",
       "      <td>NaN</td>\n",
       "      <td>2021-04-14T20:32:24.000Z</td>\n",
       "    </tr>\n",
       "    <tr>\n",
       "      <th>2</th>\n",
       "      <td>Jared Halpern</td>\n",
       "      <td>@JaredEHalpern</td>\n",
       "      <td>Wow, he was a hell of an engineer --Grant Imah...</td>\n",
       "      <td>NaN</td>\n",
       "      <td>NaN</td>\n",
       "      <td>NaN</td>\n",
       "      <td>2021-04-14T20:32:23.000Z</td>\n",
       "    </tr>\n",
       "    <tr>\n",
       "      <th>3</th>\n",
       "      <td>Bob Brigham</td>\n",
       "      <td>@BobBrigham</td>\n",
       "      <td>Matt Kelley is so bad he thinks coronavirus is...</td>\n",
       "      <td>NaN</td>\n",
       "      <td>NaN</td>\n",
       "      <td>NaN</td>\n",
       "      <td>2021-04-14T20:32:10.000Z</td>\n",
       "    </tr>\n",
       "    <tr>\n",
       "      <th>4</th>\n",
       "      <td>AlaskanTzar</td>\n",
       "      <td>@AlaskanTzar</td>\n",
       "      <td>Replying to \\n@science_bradyBut he was?</td>\n",
       "      <td>NaN</td>\n",
       "      <td>NaN</td>\n",
       "      <td>NaN</td>\n",
       "      <td>2021-04-14T20:31:58.000Z</td>\n",
       "    </tr>\n",
       "  </tbody>\n",
       "</table>\n",
       "</div>"
      ],
      "text/plain": [
       "            Username          Handle  \\\n",
       "0               Angi    @AngiMaryssa   \n",
       "1  Señor Luis (1LUV)      @thiccbb69   \n",
       "2      Jared Halpern  @JaredEHalpern   \n",
       "3        Bob Brigham     @BobBrigham   \n",
       "4        AlaskanTzar    @AlaskanTzar   \n",
       "\n",
       "                                                Text Comments Retweets Likes  \\\n",
       "0  Blackwell is great. As a lawyer, you have to b...      NaN      NaN   NaN   \n",
       "1  math dumb af, if y=mx+b then y=tf don't she lo...      NaN      NaN   NaN   \n",
       "2  Wow, he was a hell of an engineer --Grant Imah...      NaN      NaN   NaN   \n",
       "3  Matt Kelley is so bad he thinks coronavirus is...      NaN      NaN   NaN   \n",
       "4            Replying to \\n@science_bradyBut he was?      NaN      NaN   NaN   \n",
       "\n",
       "                       Date  \n",
       "0  2021-04-14T20:32:29.000Z  \n",
       "1  2021-04-14T20:32:24.000Z  \n",
       "2  2021-04-14T20:32:23.000Z  \n",
       "3  2021-04-14T20:32:10.000Z  \n",
       "4  2021-04-14T20:31:58.000Z  "
      ]
     },
     "execution_count": 32,
     "metadata": {},
     "output_type": "execute_result"
    }
   ],
   "source": [
    "tweets_df = pd.read_csv(\"stem_tweets.csv\", dtype=object)\n",
    "tweets_df.head()"
   ]
  },
  {
   "cell_type": "code",
   "execution_count": 33,
   "metadata": {},
   "outputs": [
    {
     "data": {
      "text/plain": [
       "30284"
      ]
     },
     "execution_count": 33,
     "metadata": {},
     "output_type": "execute_result"
    }
   ],
   "source": [
    "len(tweets_df)"
   ]
  },
  {
   "cell_type": "code",
   "execution_count": 34,
   "metadata": {},
   "outputs": [],
   "source": [
    "# Remove handles\n",
    "tweets_df['Text'] =  tweets_df['Text'].apply(lambda x: re.sub('@[\\w]+','', str(x)))\n",
    "\n",
    "\n",
    "#Remove punctuation\n",
    "\n",
    "# remove 's, 'll, 'd  \n",
    "tweets_df['Text'] = tweets_df['Text'].str.replace(\"'s\",\"\")\n",
    "tweets_df['Text'] = tweets_df['Text'].str.replace(\"'ll\",\"\")\n",
    "tweets_df['Text'] = tweets_df['Text'].str.replace(\"'d\",\"\")\n",
    "tweets_df['Text'] = tweets_df['Text'].str.replace(\"Replying to \",\"\")\n",
    "tweets_df['Text'] = tweets_df['Text'].str.replace(\"\\n\",\"\")\n",
    " \n",
    "\n",
    "\n",
    "def remove_punctuation(text):\n",
    "    no_punct=[words for words in text if words not in string.punctuation]\n",
    "    words_wo_punct=''.join(no_punct)\n",
    "    return words_wo_punct\n",
    "\n",
    "tweets_df['Text']=tweets_df['Text'].apply(lambda x: remove_punctuation(x))\n",
    "\n",
    "\n",
    "\n",
    "# Tokenizing \n",
    "def tokenize(text):\n",
    "    split=re.split(\"\\W+\",text) \n",
    "    return split\n",
    "tweets_df['Text_Token']=tweets_df['Text'].apply(lambda x: tokenize(x.lower()))\n",
    "\n",
    "\n",
    "# Assign a gender to each tweet based on pronouns present\n",
    "tweets_df.loc[tweets_df['Text'].str.contains(' he '), 'Gender'] = 'M'\n",
    "tweets_df.loc[tweets_df['Text'].str.contains('He '), 'Gender'] = 'M'\n",
    "tweets_df.loc[tweets_df['Text'].str.contains(' him '), 'Gender'] = 'M'\n",
    "tweets_df.loc[tweets_df['Text'].str.contains(' she '), 'Gender'] = 'F'\n",
    "tweets_df.loc[tweets_df['Text'].str.contains('She'), 'Gender'] = 'F'\n",
    "tweets_df.loc[tweets_df['Text'].str.contains(' her '), 'Gender'] = 'F'\n",
    "\n",
    "# Remove stop words\n",
    "stopword = nltk.corpus.stopwords.words('english')\n",
    "def remove_stopwords(text):\n",
    "    text=[word for word in text if word not in stopword]\n",
    "    return text\n",
    "tweets_df['Text_Token'] = tweets_df['Text_Token'].apply(lambda x: remove_stopwords(x))\n",
    "\n",
    "# Lemmatizing\n",
    "lemmatizer = WordNetLemmatizer()\n",
    "\n",
    "def lemmatize_text(text):\n",
    "    lemmatizer = WordNetLemmatizer()\n",
    "    return [lemmatizer.lemmatize(w) for w in text]\n",
    "\n",
    "tweets_df['Text_Token'] = tweets_df['Text_Token'].apply(lemmatize_text)\n",
    "#tweets_df['Text_Token'] = tweets_df['Text_Token'].str.replace(\"'',\",\"\")\n",
    "\n",
    "\n",
    "tweets_df = tweets_df[[\"Username\",\"Handle\",\"Text\",\"Date\",\"Text_Token\",\"Gender\"]]\n",
    "\n",
    "\n",
    "# Drop any rows containing blanks\n",
    "tweets_df = tweets_df.replace(r'^\\s*$', np.nan, regex=True)\n",
    "tweets_df = tweets_df.dropna()"
   ]
  },
  {
   "cell_type": "code",
   "execution_count": 35,
   "metadata": {},
   "outputs": [
    {
     "data": {
      "text/html": [
       "<div>\n",
       "<style scoped>\n",
       "    .dataframe tbody tr th:only-of-type {\n",
       "        vertical-align: middle;\n",
       "    }\n",
       "\n",
       "    .dataframe tbody tr th {\n",
       "        vertical-align: top;\n",
       "    }\n",
       "\n",
       "    .dataframe thead th {\n",
       "        text-align: right;\n",
       "    }\n",
       "</style>\n",
       "<table border=\"1\" class=\"dataframe\">\n",
       "  <thead>\n",
       "    <tr style=\"text-align: right;\">\n",
       "      <th></th>\n",
       "      <th>Username</th>\n",
       "      <th>Handle</th>\n",
       "      <th>Text</th>\n",
       "      <th>Date</th>\n",
       "      <th>Text_Token</th>\n",
       "      <th>Gender</th>\n",
       "    </tr>\n",
       "  </thead>\n",
       "  <tbody>\n",
       "    <tr>\n",
       "      <th>0</th>\n",
       "      <td>Angi</td>\n",
       "      <td>@AngiMaryssa</td>\n",
       "      <td>Blackwell is great As a lawyer you have to bec...</td>\n",
       "      <td>2021-04-14T20:32:29.000Z</td>\n",
       "      <td>[blackwell, great, lawyer, become, expert, com...</td>\n",
       "      <td>M</td>\n",
       "    </tr>\n",
       "    <tr>\n",
       "      <th>1</th>\n",
       "      <td>Señor Luis (1LUV)</td>\n",
       "      <td>@thiccbb69</td>\n",
       "      <td>math dumb af if ymxb then ytf dont she love me</td>\n",
       "      <td>2021-04-14T20:32:24.000Z</td>\n",
       "      <td>[math, dumb, af, ymxb, ytf, dont, love]</td>\n",
       "      <td>F</td>\n",
       "    </tr>\n",
       "    <tr>\n",
       "      <th>2</th>\n",
       "      <td>Jared Halpern</td>\n",
       "      <td>@JaredEHalpern</td>\n",
       "      <td>Wow he was a hell of an engineer Grant Imahara...</td>\n",
       "      <td>2021-04-14T20:32:23.000Z</td>\n",
       "      <td>[wow, hell, engineer, grant, imahara, talk, ro...</td>\n",
       "      <td>M</td>\n",
       "    </tr>\n",
       "    <tr>\n",
       "      <th>3</th>\n",
       "      <td>Bob Brigham</td>\n",
       "      <td>@BobBrigham</td>\n",
       "      <td>Matt Kelley is so bad he thinks coronavirus is...</td>\n",
       "      <td>2021-04-14T20:32:10.000Z</td>\n",
       "      <td>[matt, kelley, bad, think, coronavirus, noctur...</td>\n",
       "      <td>M</td>\n",
       "    </tr>\n",
       "    <tr>\n",
       "      <th>4</th>\n",
       "      <td>AlaskanTzar</td>\n",
       "      <td>@AlaskanTzar</td>\n",
       "      <td>he was</td>\n",
       "      <td>2021-04-14T20:31:58.000Z</td>\n",
       "      <td>[]</td>\n",
       "      <td>M</td>\n",
       "    </tr>\n",
       "  </tbody>\n",
       "</table>\n",
       "</div>"
      ],
      "text/plain": [
       "            Username          Handle  \\\n",
       "0               Angi    @AngiMaryssa   \n",
       "1  Señor Luis (1LUV)      @thiccbb69   \n",
       "2      Jared Halpern  @JaredEHalpern   \n",
       "3        Bob Brigham     @BobBrigham   \n",
       "4        AlaskanTzar    @AlaskanTzar   \n",
       "\n",
       "                                                Text  \\\n",
       "0  Blackwell is great As a lawyer you have to bec...   \n",
       "1     math dumb af if ymxb then ytf dont she love me   \n",
       "2  Wow he was a hell of an engineer Grant Imahara...   \n",
       "3  Matt Kelley is so bad he thinks coronavirus is...   \n",
       "4                                             he was   \n",
       "\n",
       "                       Date  \\\n",
       "0  2021-04-14T20:32:29.000Z   \n",
       "1  2021-04-14T20:32:24.000Z   \n",
       "2  2021-04-14T20:32:23.000Z   \n",
       "3  2021-04-14T20:32:10.000Z   \n",
       "4  2021-04-14T20:31:58.000Z   \n",
       "\n",
       "                                          Text_Token Gender  \n",
       "0  [blackwell, great, lawyer, become, expert, com...      M  \n",
       "1            [math, dumb, af, ymxb, ytf, dont, love]      F  \n",
       "2  [wow, hell, engineer, grant, imahara, talk, ro...      M  \n",
       "3  [matt, kelley, bad, think, coronavirus, noctur...      M  \n",
       "4                                                 []      M  "
      ]
     },
     "execution_count": 35,
     "metadata": {},
     "output_type": "execute_result"
    }
   ],
   "source": [
    "tweets_df.head()"
   ]
  },
  {
   "cell_type": "code",
   "execution_count": 36,
   "metadata": {},
   "outputs": [
    {
     "data": {
      "text/plain": [
       "25165"
      ]
     },
     "execution_count": 36,
     "metadata": {},
     "output_type": "execute_result"
    }
   ],
   "source": [
    "len(tweets_df)"
   ]
  },
  {
   "cell_type": "code",
   "execution_count": 37,
   "metadata": {},
   "outputs": [],
   "source": [
    "# Save to csv\n",
    "tweets_df.to_csv ('tweets_df_with_gender.csv', index = None, header=True)"
   ]
  },
  {
   "cell_type": "markdown",
   "metadata": {},
   "source": [
    "## Step 3. Data exploration"
   ]
  },
  {
   "cell_type": "code",
   "execution_count": 38,
   "metadata": {},
   "outputs": [
    {
     "name": "stdout",
     "output_type": "stream",
     "text": [
      "Percentage of STEM Tweets by gender\n",
      "M    0.65909\n",
      "F    0.34091\n",
      "Name: Gender, dtype: float64\n",
      "\n",
      "Count of STEM Tweets by gender\n",
      "M    16586\n",
      "F     8579\n",
      "Name: Gender, dtype: int64\n",
      "\n",
      "Total Tweets: 25165\n"
     ]
    },
    {
     "data": {
      "image/png": "[encoded data removed]",
      "text/plain": [
       "<Figure size 432x288 with 1 Axes>"
      ]
     },
     "metadata": {
      "needs_background": "light"
     },
     "output_type": "display_data"
    }
   ],
   "source": [
    "# Count tweets about women vs men\n",
    "print(\"Percentage of STEM Tweets by gender\")\n",
    "counts = tweets_df['Gender'].value_counts(normalize=True)\n",
    "print(counts)\n",
    "print()\n",
    "print(\"Count of STEM Tweets by gender\")\n",
    "counts = tweets_df['Gender'].value_counts()\n",
    "print(counts)\n",
    "print()\n",
    "print(\"Total Tweets:\", len(tweets_df))\n",
    "tweets_df.Gender.value_counts().plot(kind = 'bar')\n",
    "plt.title('STEM Tweet Counts by Gender')\n",
    "plt.xlabel('Gender')\n",
    "plt.ylabel('Count')\n",
    "plt.show()\n"
   ]
  },
  {
   "cell_type": "markdown",
   "metadata": {},
   "source": [
    "## Step 4. Gender prediction"
   ]
  },
  {
   "cell_type": "code",
   "execution_count": 46,
   "metadata": {},
   "outputs": [
    {
     "name": "stdout",
     "output_type": "stream",
     "text": [
      "0        [blackwell, great, lawyer, become, expert, com...\n",
      "1                  [math, dumb, af, ymxb, ytf, dont, love]\n",
      "2        [wow, hell, engineer, grant, imahara, talk, ro...\n",
      "3        [matt, kelley, bad, think, coronavirus, noctur...\n",
      "4                                                       []\n",
      "                               ...                        \n",
      "30278                                       [, two, match]\n",
      "30279    [forgot, ran, young, female, gas, engineer, ap...\n",
      "30280    [, p, farrellone, world, brilliant, mind, lost...\n",
      "30282    [built, pergola, yaay, draw, want, discus, fin...\n",
      "30283    [blessed, mindhe, first, taught, usthat, cosmo...\n",
      "Name: Text_Token, Length: 25165, dtype: object\n"
     ]
    }
   ],
   "source": [
    "documents = tweets_df[\"Text_Token\"]\n",
    "\n",
    "print(documents)"
   ]
  },
  {
   "cell_type": "code",
   "execution_count": 48,
   "metadata": {},
   "outputs": [],
   "source": []
  },
  {
   "cell_type": "code",
   "execution_count": null,
   "metadata": {},
   "outputs": [],
   "source": []
  },
  {
   "cell_type": "code",
   "execution_count": null,
   "metadata": {},
   "outputs": [],
   "source": []
  },
  {
   "cell_type": "code",
   "execution_count": null,
   "metadata": {},
   "outputs": [],
   "source": []
  },
  {
   "cell_type": "code",
   "execution_count": null,
   "metadata": {},
   "outputs": [],
   "source": []
  },
  {
   "cell_type": "code",
   "execution_count": null,
   "metadata": {},
   "outputs": [],
   "source": []
  }
 ],
 "metadata": {
  "kernelspec": {
   "display_name": "Python 3",
   "language": "python",
   "name": "python3"
  },
  "language_info": {
   "codemirror_mode": {
    "name": "ipython",
    "version": 3
   },
   "file_extension": ".py",
   "mimetype": "text/x-python",
   "name": "python",
   "nbconvert_exporter": "python",
   "pygments_lexer": "ipython3",
   "version": "3.8.3"
  }
 },
 "nbformat": 4,
 "nbformat_minor": 4
}
