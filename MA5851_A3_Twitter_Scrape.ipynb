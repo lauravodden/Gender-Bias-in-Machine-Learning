{
 "cells": [
  {
   "cell_type": "markdown",
   "metadata": {},
   "source": [
    " \n",
    " \n",
    "  \n",
    "  \n",
    "  \n",
    " \n",
    " "
   ]
  },
  {
   "cell_type": "markdown",
   "metadata": {},
   "source": [
    "# Document 2. Twitter Scraper using Selenium\n",
    " \n",
    "##  Rationale\n",
    "> There is a gender imbalance in STEM careers (ref).  Such an imbalance should show up as bias in language data and this bias should therefore appear and may even amplify in any predictions made based on language data (Sun et al. 2019). \n",
    "> For this analysis, Twitter is the sole website from which data were extracted. This is because tweets provide a large number and wide range of language data relating to any conceivable topic. It is possible to scrape data from Twitter using specific search terms, allowing targeted collection of information and ensuring collected data are relevant to this investigation.\n",
    "\n",
    "> The reason for extracting web content from Twitter is that Twitter behaves as a largely uncensored (with exceptions), global-scale historical record from the perspective of everyday members of society, not just the powerful and privileged, as has been the case in the past (although, importantly, and in line with the topic of this report, Tweets written by people of colour are more likely to be flagged as offensive and removed by machine learning algorithms (Wei, 2020)). In 2020, 500 million tweets were published daily. Users from around the world post their uninhibited thoughts and feelings about all kinds of topics, and so Twitter can be treated as a repository of people’s opinions and attitudes, and therefore their personal biases, and on a grander scale, the biases of society, through time. This makes Twitter an ideal source of data for sentiment analysis and natural language processing in general (ref). Because this investigation seeks to research implicit gender bias in STEM-related topics, and because gender bias is a social issue, it is sensible to look for data where people produce a high volume of text relating to, in this case, STEM careers. \n",
    "\n",
    "> For this analysis, Twitter, data covers tweets containing hashtags relating to STEM (science/scientist, technology/technologist, engineering/engineer, and math/mathematics/mathematician), which also contain the gender pronouns (she/her/hers, he/him/his). For the purpose of this research, only these two binary genders are incorporated because…. The resulting dataframe comprised xx,xxx records of STEM-related tweets from April 14, 2021. The number of STEM tweets containing female pronouns vs male pronouns was investigated.\n",
    "\n",
    "\n"
   ]
  },
  {
   "cell_type": "code",
   "execution_count": 2,
   "metadata": {},
   "outputs": [],
   "source": [
    "# Import packages\n",
    "import pandas as pd\n",
    "import numpy as np\n",
    "from getpass import getpass\n",
    "from time import sleep\n",
    "from selenium import webdriver\n",
    "from selenium.webdriver.common.keys import Keys\n",
    "from selenium.common.exceptions import NoSuchElementException\n",
    "from selenium.common.exceptions import StaleElementReferenceException\n",
    "from webdriver_manager.chrome import ChromeDriverManager\n",
    "import csv\n",
    "import re\n",
    "import nltk\n",
    "import string\n",
    "from nltk.stem import WordNetLemmatizer \n",
    "import matplotlib\n",
    "import matplotlib.pyplot as plt\n",
    "from matplotlib.pyplot import figure\n",
    "from matplotlib.pyplot import xticks\n",
    "from matplotlib.pyplot import yticks\n",
    "from matplotlib.ticker import StrMethodFormatter\n",
    "import matplotlib.ticker as mtick"
   ]
  },
  {
   "cell_type": "markdown",
   "metadata": {},
   "source": [
    "## Methods\n",
    "### Webscraper\n",
    "> The data from Twitter were complicated to extract – why?. Due to the perpetual scrolling nature of the site, it was decided that the best way to scrape Tweet data would be using the Selenium package. Selenium works by automating web browser activity, replicating functions such as open, click and scroll (ref). The package requires installation of a driver to interface with a browser (Chrome was used here).\n",
    "\n",
    "> Selenium was used to open, navigate and enter a search term to scrape Tweet data while scrolling downwards, allowing new Tweets to appear. The xpath function was used to select specific data (Tweet, User, Date) from the HTML inspect navigation panel.\n",
    "\n",
    "> Tweets containing the specified search terms were extracted straight into several columns: Tweet, STEM hashtags, gender pronouns. From here, information was extracted from Tweets. Sentiment analysis was performed on each tweet to determine popular sentiment towards women in STEM."
   ]
  },
  {
   "cell_type": "code",
   "execution_count": 2,
   "metadata": {
    "scrolled": true
   },
   "outputs": [],
   "source": [
    "# Function to scrape Twitter using Selenium\n",
    "\n",
    "def get_tweet_data(card):\n",
    "    #Extract tweet data\n",
    "    #username\n",
    "    try:\n",
    "        username = card.find_element_by_xpath('.//span').text\n",
    "    except NoSuchElementException:\n",
    "        return\n",
    "    except StaleElementReferenceException:\n",
    "        return\n",
    "    #twitter handle\n",
    "    try:\n",
    "        handle = card.find_element_by_xpath('.//span[contains(text(), \"@\")]').text\n",
    "    except NoSuchElementException:\n",
    "        return\n",
    "    except StaleElementReferenceException:\n",
    "        return\n",
    "    #tweet text\n",
    "    try:\n",
    "        comment = card.find_element_by_xpath('.//div[2]/div[2]/div[1]').text\n",
    "        responding = card.find_element_by_xpath('.//div[2]/div[2]/div[2]').text\n",
    "        text = comment+responding\n",
    "    except NoSuchElementException:\n",
    "        return\n",
    "    except StaleElementReferenceException:\n",
    "        return\n",
    "    #reply count\n",
    "    try:\n",
    "        comment = card.find_element_by_xpath('//div[@data-testid=\"reply\"]').text\n",
    "    except NoSuchElementException:\n",
    "        return\n",
    "    except StaleElementReferenceException:\n",
    "        return\n",
    "    #retweet count\n",
    "    try:\n",
    "        retweet = card.find_element_by_xpath('//div[@data-testid=\"retweet\"]').text\n",
    "    except NoSuchElementException:\n",
    "        return\n",
    "    except StaleElementReferenceException:\n",
    "        return\n",
    "    #likes\n",
    "    try:\n",
    "        like = card.find_element_by_xpath('//div[@data-testid=\"like\"]').text\n",
    "    except NoSuchElementException:\n",
    "        return\n",
    "    except StaleElementReferenceException:\n",
    "        return\n",
    "    try:\n",
    "        #post date\n",
    "        date = card.find_element_by_xpath('.//time').get_attribute('datetime')\n",
    "    except NoSuchElementException:\n",
    "        return\n",
    "    except StaleElementReferenceException:\n",
    "        return\n",
    "    \n",
    "    tweet = (username, handle, text, comment, retweet, like, date)\n",
    "    return tweet \n",
    "\n",
    "# create instance of webdriver\n",
    "driver = webdriver.Chrome()\n",
    "driver.get('https://www.twitter.com/login')\n"
   ]
  },
  {
   "cell_type": "code",
   "execution_count": 3,
   "metadata": {},
   "outputs": [
    {
     "name": "stdout",
     "output_type": "stream",
     "text": [
      "········\n"
     ]
    }
   ],
   "source": [
    "#navigate to twitter and login\n",
    "username = driver.find_element_by_xpath('//input[@name=\"session[username_or_email]\"]')\n",
    "username.send_keys('laura.vodden@outlook.com')\n",
    "mypassword = getpass()\n",
    "\n",
    "password = driver.find_element_by_xpath('//input[@name=\"session[password]\"]')\n",
    "password.send_keys(mypassword)\n",
    "password.send_keys(Keys.RETURN)\n"
   ]
  },
  {
   "cell_type": "code",
   "execution_count": 5,
   "metadata": {},
   "outputs": [],
   "source": [
    "#find search input and search for term\n",
    "\n",
    "#navigte to 'explore' tab\n",
    "driver.find_element_by_xpath('//a[@data-testid=\"AppTabBar_Explore_Link\"]').click()\n",
    "\n",
    "search_input = driver.find_element_by_xpath('//input[@aria-label=\"Search query\"]')\n",
    "search_input.send_keys('(science OR technology OR engineering OR math OR mathematics OR scientist OR technologist OR engineer OR mathematician) (she OR her OR he OR him) -filter:retweets')\n",
    "search_input.send_keys(Keys.RETURN)\n",
    "\n",
    "#navigte to 'latest' tab\n",
    "driver.find_element_by_link_text('Latest').click()\n",
    "\n",
    "# get all tweets on the page\n",
    "data = []\n",
    "tweet_ids = set()\n",
    "last_position = driver.execute_script(\"return window.pageYOffset;\")\n",
    "scrolling = True\n",
    "\n",
    "while scrolling:\n",
    "    page_cards = driver.find_elements_by_xpath('//div[@data-testid=\"tweet\"]')\n",
    "    for card in page_cards[-15:]:\n",
    "        tweet = get_tweet_data(card)\n",
    "        if tweet:\n",
    "            tweet_id = ''.join(tweet)\n",
    "            if tweet_id not in tweet_ids:\n",
    "                tweet_ids.add(tweet_id)\n",
    "            data.append(tweet)\n",
    "    \n",
    "    scroll_attempt = 0\n",
    "    while True:\n",
    "        driver.execute_script('window.scrollTo(0, document.body.scrollHeight);')\n",
    "        sleep(1)\n",
    "        curr_position = driver.execute_script(\"return window.pageYOffset;\")\n",
    "        if last_position == curr_position:\n",
    "            scroll_attempt += 1\n",
    "            \n",
    "            #end of scroll region\n",
    "            if scroll_attempt >= 3:\n",
    "                scrolling = False\n",
    "                break\n",
    "            else:\n",
    "                sleep(2) # attempt to scroll again\n",
    "        else:\n",
    "            last_position = curr_position\n",
    "            break\n",
    "\n",
    "#save tweet data\n",
    "with open('stem_tweets_2.csv', 'w', newline='', encoding='utf-8') as f:\n",
    "    header = ['Username', 'Handle', 'Text', 'Comments', 'Retweets', 'Likes', 'Date']\n",
    "    writer = csv.writer(f)\n",
    "    writer.writerow(header)\n",
    "    writer.writerows(data)"
   ]
  },
  {
   "cell_type": "markdown",
   "metadata": {},
   "source": [
    "### View the scraped data"
   ]
  },
  {
   "cell_type": "code",
   "execution_count": 3,
   "metadata": {},
   "outputs": [
    {
     "data": {
      "text/html": [
       "<div>\n",
       "<style scoped>\n",
       "    .dataframe tbody tr th:only-of-type {\n",
       "        vertical-align: middle;\n",
       "    }\n",
       "\n",
       "    .dataframe tbody tr th {\n",
       "        vertical-align: top;\n",
       "    }\n",
       "\n",
       "    .dataframe thead th {\n",
       "        text-align: right;\n",
       "    }\n",
       "</style>\n",
       "<table border=\"1\" class=\"dataframe\">\n",
       "  <thead>\n",
       "    <tr style=\"text-align: right;\">\n",
       "      <th></th>\n",
       "      <th>Username</th>\n",
       "      <th>Handle</th>\n",
       "      <th>Text</th>\n",
       "      <th>Comments</th>\n",
       "      <th>Retweets</th>\n",
       "      <th>Likes</th>\n",
       "      <th>Date</th>\n",
       "    </tr>\n",
       "  </thead>\n",
       "  <tbody>\n",
       "    <tr>\n",
       "      <th>0</th>\n",
       "      <td>Angi</td>\n",
       "      <td>@AngiMaryssa</td>\n",
       "      <td>Blackwell is great. As a lawyer, you have to b...</td>\n",
       "      <td>NaN</td>\n",
       "      <td>NaN</td>\n",
       "      <td>NaN</td>\n",
       "      <td>2021-04-14T20:32:29.000Z</td>\n",
       "    </tr>\n",
       "    <tr>\n",
       "      <th>1</th>\n",
       "      <td>Señor Luis (1LUV)</td>\n",
       "      <td>@thiccbb69</td>\n",
       "      <td>math dumb af, if y=mx+b then y=tf don't she lo...</td>\n",
       "      <td>NaN</td>\n",
       "      <td>NaN</td>\n",
       "      <td>NaN</td>\n",
       "      <td>2021-04-14T20:32:24.000Z</td>\n",
       "    </tr>\n",
       "    <tr>\n",
       "      <th>2</th>\n",
       "      <td>Jared Halpern</td>\n",
       "      <td>@JaredEHalpern</td>\n",
       "      <td>Wow, he was a hell of an engineer --Grant Imah...</td>\n",
       "      <td>NaN</td>\n",
       "      <td>NaN</td>\n",
       "      <td>NaN</td>\n",
       "      <td>2021-04-14T20:32:23.000Z</td>\n",
       "    </tr>\n",
       "    <tr>\n",
       "      <th>3</th>\n",
       "      <td>Bob Brigham</td>\n",
       "      <td>@BobBrigham</td>\n",
       "      <td>Matt Kelley is so bad he thinks coronavirus is...</td>\n",
       "      <td>NaN</td>\n",
       "      <td>NaN</td>\n",
       "      <td>NaN</td>\n",
       "      <td>2021-04-14T20:32:10.000Z</td>\n",
       "    </tr>\n",
       "    <tr>\n",
       "      <th>4</th>\n",
       "      <td>AlaskanTzar</td>\n",
       "      <td>@AlaskanTzar</td>\n",
       "      <td>Replying to \\n@science_bradyBut he was?</td>\n",
       "      <td>NaN</td>\n",
       "      <td>NaN</td>\n",
       "      <td>NaN</td>\n",
       "      <td>2021-04-14T20:31:58.000Z</td>\n",
       "    </tr>\n",
       "  </tbody>\n",
       "</table>\n",
       "</div>"
      ],
      "text/plain": [
       "            Username          Handle  \\\n",
       "0               Angi    @AngiMaryssa   \n",
       "1  Señor Luis (1LUV)      @thiccbb69   \n",
       "2      Jared Halpern  @JaredEHalpern   \n",
       "3        Bob Brigham     @BobBrigham   \n",
       "4        AlaskanTzar    @AlaskanTzar   \n",
       "\n",
       "                                                Text Comments Retweets Likes  \\\n",
       "0  Blackwell is great. As a lawyer, you have to b...      NaN      NaN   NaN   \n",
       "1  math dumb af, if y=mx+b then y=tf don't she lo...      NaN      NaN   NaN   \n",
       "2  Wow, he was a hell of an engineer --Grant Imah...      NaN      NaN   NaN   \n",
       "3  Matt Kelley is so bad he thinks coronavirus is...      NaN      NaN   NaN   \n",
       "4            Replying to \\n@science_bradyBut he was?      NaN      NaN   NaN   \n",
       "\n",
       "                       Date  \n",
       "0  2021-04-14T20:32:29.000Z  \n",
       "1  2021-04-14T20:32:24.000Z  \n",
       "2  2021-04-14T20:32:23.000Z  \n",
       "3  2021-04-14T20:32:10.000Z  \n",
       "4  2021-04-14T20:31:58.000Z  "
      ]
     },
     "execution_count": 3,
     "metadata": {},
     "output_type": "execute_result"
    }
   ],
   "source": [
    "# Ipmort data and view dataframe head\n",
    "tweets_df = pd.read_csv(\"stem_tweets.csv\", dtype=object)\n",
    "tweets_df.head()"
   ]
  },
  {
   "cell_type": "markdown",
   "metadata": {},
   "source": [
    "## Data processing\n",
    "### Data cleaning \n",
    "> There were several necessary steps involved in preparing the Tweet data for analysis using NLP methods. First, user handles were removed using a lambda function targeting the @ symbol before user handles. After this, the remaining punctuation was removed. Stop words were removed, and Tweets were Tokenised and Lemmatised. Rows containing blanks were excluded from the dataframe. \n",
    "> Furthermore, a new column was generated with values ‘M’ or ‘F’, corresponding to male or female, depending on which pronouns were present in the original Tweet.\n",
    "> The resulting dataframe contained 25,165 rows, with four columns containing the User Handle, the text of each Tweet, the tokenised and Lemmatised Tweet and Gender data.\n",
    "> The dataframe was saved as a .csv file for later use.\n"
   ]
  },
  {
   "cell_type": "code",
   "execution_count": 6,
   "metadata": {},
   "outputs": [],
   "source": [
    "# Remove handles\n",
    "tweets_df['Text'] =  tweets_df['Text'].apply(lambda x: re.sub('@[\\w]+','', str(x)))\n",
    "\n",
    "#Remove punctuation\n",
    "# remove 's, 'll, 'd  \n",
    "tweets_df['Text'] = tweets_df['Text'].str.replace(\"'s\",\"\")\n",
    "tweets_df['Text'] = tweets_df['Text'].str.replace(\"'ll\",\"\")\n",
    "tweets_df['Text'] = tweets_df['Text'].str.replace(\"'d\",\"\")\n",
    "tweets_df['Text'] = tweets_df['Text'].str.replace(\"Replying to \",\"\")\n",
    "tweets_df['Text'] = tweets_df['Text'].str.replace(\"\\n\",\"\")\n",
    " \n",
    "\n",
    "def remove_punctuation(text):\n",
    "    no_punct=[words for words in text if words not in string.punctuation]\n",
    "    words_wo_punct=''.join(no_punct)\n",
    "    return words_wo_punct\n",
    "\n",
    "tweets_df['Text']=tweets_df['Text'].apply(lambda x: remove_punctuation(x))\n",
    "\n",
    "\n",
    "# Assign a gender to each tweet based on pronouns present\n",
    "tweets_df.loc[tweets_df['Text'].str.contains(' he '), 'Gender'] = 'M'\n",
    "tweets_df.loc[tweets_df['Text'].str.contains('He '), 'Gender'] = 'M'\n",
    "tweets_df.loc[tweets_df['Text'].str.contains(' him '), 'Gender'] = 'M'\n",
    "tweets_df.loc[tweets_df['Text'].str.contains(' she '), 'Gender'] = 'F'\n",
    "tweets_df.loc[tweets_df['Text'].str.contains('She'), 'Gender'] = 'F'\n",
    "tweets_df.loc[tweets_df['Text'].str.contains(' her '), 'Gender'] = 'F'\n",
    "\n",
    "# Assign a topic to each tweet based on topic in text\n",
    "tweets_df.loc[tweets_df['Text'].str.contains('science'), 'Topic'] = 'science'\n",
    "tweets_df.loc[tweets_df['Text'].str.contains('scientist'), 'Topic'] = 'science'\n",
    "tweets_df.loc[tweets_df['Text'].str.contains('technology '), 'Topic'] = 'technology'\n",
    "tweets_df.loc[tweets_df['Text'].str.contains('technogist'), 'Topic'] = 'technology'\n",
    "tweets_df.loc[tweets_df['Text'].str.contains('engineering'), 'Topic'] = 'engineering'\n",
    "tweets_df.loc[tweets_df['Text'].str.contains('engineer'), 'Topic'] = 'engineering'\n",
    "tweets_df.loc[tweets_df['Text'].str.contains('math'), 'Topic'] = 'mathematics'\n",
    "tweets_df.loc[tweets_df['Text'].str.contains('mathematics'), 'Topic'] = 'mathematics'\n",
    "tweets_df.loc[tweets_df['Text'].str.contains('mathematician'), 'Topic'] = 'mathematics'\n",
    "\n",
    "\n",
    "tweets_df = tweets_df[[\"Handle\", \"Text\", \"Gender\", \"Topic\"]]\n",
    "\n",
    "\n",
    "# Drop any rows containing blanks\n",
    "tweets_df = tweets_df.replace(r'^\\s*$', np.nan, regex=True)\n",
    "tweets_df = tweets_df.dropna()\n",
    "\n",
    "# Shuffle data\n",
    "tweets_df = tweets_df.sample(frac=1).reset_index(drop=True)"
   ]
  },
  {
   "cell_type": "code",
   "execution_count": 7,
   "metadata": {},
   "outputs": [
    {
     "data": {
      "text/html": [
       "<div>\n",
       "<style scoped>\n",
       "    .dataframe tbody tr th:only-of-type {\n",
       "        vertical-align: middle;\n",
       "    }\n",
       "\n",
       "    .dataframe tbody tr th {\n",
       "        vertical-align: top;\n",
       "    }\n",
       "\n",
       "    .dataframe thead th {\n",
       "        text-align: right;\n",
       "    }\n",
       "</style>\n",
       "<table border=\"1\" class=\"dataframe\">\n",
       "  <thead>\n",
       "    <tr style=\"text-align: right;\">\n",
       "      <th></th>\n",
       "      <th>Handle</th>\n",
       "      <th>Text</th>\n",
       "      <th>Gender</th>\n",
       "      <th>Topic</th>\n",
       "    </tr>\n",
       "  </thead>\n",
       "  <tbody>\n",
       "    <tr>\n",
       "      <th>0</th>\n",
       "      <td>@dhjshi_shi</td>\n",
       "      <td>why I loved Paul Lockhart Measurement he does...</td>\n",
       "      <td>M</td>\n",
       "      <td>mathematics</td>\n",
       "    </tr>\n",
       "    <tr>\n",
       "      <th>1</th>\n",
       "      <td>@Gersh94</td>\n",
       "      <td>couldnt science his way out of a wet paper ba...</td>\n",
       "      <td>M</td>\n",
       "      <td>science</td>\n",
       "    </tr>\n",
       "    <tr>\n",
       "      <th>2</th>\n",
       "      <td>@SuriyaSubraman</td>\n",
       "      <td>How Industry 40 and IIoT Work Together for Ind...</td>\n",
       "      <td>F</td>\n",
       "      <td>science</td>\n",
       "    </tr>\n",
       "    <tr>\n",
       "      <th>3</th>\n",
       "      <td>@gwenmoritz</td>\n",
       "      <td>Totally onbrand The only thing that inspires t...</td>\n",
       "      <td>M</td>\n",
       "      <td>science</td>\n",
       "    </tr>\n",
       "    <tr>\n",
       "      <th>4</th>\n",
       "      <td>@JamaicanRabbit5</td>\n",
       "      <td>This is how Campion Girls are evil Imagine I c...</td>\n",
       "      <td>F</td>\n",
       "      <td>engineering</td>\n",
       "    </tr>\n",
       "  </tbody>\n",
       "</table>\n",
       "</div>"
      ],
      "text/plain": [
       "             Handle                                               Text Gender  \\\n",
       "0       @dhjshi_shi   why I loved Paul Lockhart Measurement he does...      M   \n",
       "1          @Gersh94   couldnt science his way out of a wet paper ba...      M   \n",
       "2   @SuriyaSubraman  How Industry 40 and IIoT Work Together for Ind...      F   \n",
       "3       @gwenmoritz  Totally onbrand The only thing that inspires t...      M   \n",
       "4  @JamaicanRabbit5  This is how Campion Girls are evil Imagine I c...      F   \n",
       "\n",
       "         Topic  \n",
       "0  mathematics  \n",
       "1      science  \n",
       "2      science  \n",
       "3      science  \n",
       "4  engineering  "
      ]
     },
     "execution_count": 7,
     "metadata": {},
     "output_type": "execute_result"
    }
   ],
   "source": [
    "tweets_df.head()"
   ]
  },
  {
   "cell_type": "code",
   "execution_count": 8,
   "metadata": {},
   "outputs": [
    {
     "data": {
      "text/plain": [
       "17305"
      ]
     },
     "execution_count": 8,
     "metadata": {},
     "output_type": "execute_result"
    }
   ],
   "source": [
    "len(tweets_df)"
   ]
  },
  {
   "cell_type": "code",
   "execution_count": 9,
   "metadata": {},
   "outputs": [],
   "source": [
    "# Save to csv\n",
    "tweets_df.to_csv ('tweets_df.csv', index = None, header=True)"
   ]
  },
  {
   "cell_type": "markdown",
   "metadata": {},
   "source": [
    "## Data exploration"
   ]
  },
  {
   "cell_type": "code",
   "execution_count": 10,
   "metadata": {},
   "outputs": [],
   "source": [
    "# Import data\n",
    "tweets_df = pd.read_csv(\"tweets_df.csv\", dtype=object)"
   ]
  },
  {
   "cell_type": "markdown",
   "metadata": {},
   "source": [
    "### All STEM Tweets by gender"
   ]
  },
  {
   "cell_type": "code",
   "execution_count": 11,
   "metadata": {},
   "outputs": [
    {
     "name": "stdout",
     "output_type": "stream",
     "text": [
      "Percentage of STEM Tweets by gender\n",
      "M    0.665126\n",
      "F    0.334874\n",
      "Name: Gender, dtype: float64\n",
      "\n",
      "Count of STEM Tweets by gender\n",
      "M    11510\n",
      "F     5795\n",
      "Name: Gender, dtype: int64\n",
      "\n",
      "Total Tweets: 17305\n"
     ]
    },
    {
     "data": {
      "image/png": "[encoded data removed]",
      "text/plain": [
       "<Figure size 432x288 with 1 Axes>"
      ]
     },
     "metadata": {
      "needs_background": "light"
     },
     "output_type": "display_data"
    }
   ],
   "source": [
    "# Count tweets about women vs men\n",
    "print(\"Percentage of STEM Tweets by gender\")\n",
    "counts = tweets_df['Gender'].value_counts(normalize=True)\n",
    "print(counts)\n",
    "print()\n",
    "print(\"Count of STEM Tweets by gender\")\n",
    "counts = tweets_df['Gender'].value_counts()\n",
    "print(counts)\n",
    "print()\n",
    "print(\"Total Tweets:\", len(tweets_df))\n",
    "tweets_df.Gender.value_counts().plot(kind = 'bar')\n",
    "plt.title('STEM Tweet Counts by Gender')\n",
    "plt.xlabel('Gender')\n",
    "plt.ylabel('Count')\n",
    "plt.show()\n"
   ]
  },
  {
   "cell_type": "markdown",
   "metadata": {},
   "source": [
    "### Tweet topic by subject gender"
   ]
  },
  {
   "cell_type": "code",
   "execution_count": 12,
   "metadata": {
    "scrolled": true
   },
   "outputs": [],
   "source": [
    "sci_df = tweets_df.loc[tweets_df['Topic'] == 'science']\n",
    "tech_df = tweets_df.loc[tweets_df['Topic'] == 'technology']\n",
    "eng_df = tweets_df.loc[tweets_df['Topic'] == 'engineering']\n",
    "math_df = tweets_df.loc[tweets_df['Topic'] == 'mathematics']\n"
   ]
  },
  {
   "cell_type": "code",
   "execution_count": 13,
   "metadata": {
    "scrolled": true
   },
   "outputs": [
    {
     "data": {
      "image/png": "[encoded data removed]",
      "text/plain": [
       "<Figure size 2000x500 with 4 Axes>"
      ]
     },
     "metadata": {
      "needs_background": "light"
     },
     "output_type": "display_data"
    }
   ],
   "source": [
    "figure(figsize=(20, 5), dpi=100)\n",
    "\n",
    "plt.subplot(1, 4, 1)\n",
    "sci_df.Gender.value_counts(normalize=True).plot(kind = 'bar')\n",
    "plt.title('Science Tweets by Gender')\n",
    "plt.xlabel('Gender')\n",
    "plt.gca().yaxis.set_major_formatter(mtick.PercentFormatter(1.0))\n",
    "xticks(rotation=0)\n",
    "\n",
    "plt.subplot(1, 4, 2)\n",
    "tech_df.Gender.value_counts(normalize=True).plot(kind = 'bar')\n",
    "plt.title('Technology Tweets by Gender')\n",
    "plt.xlabel('Gender')\n",
    "plt.gca().yaxis.set_major_formatter(mtick.PercentFormatter(1.0))\n",
    "xticks(rotation=0)\n",
    "\n",
    "plt.subplot(1, 4, 3)\n",
    "eng_df.Gender.value_counts(normalize=True).plot(kind = 'bar')\n",
    "plt.title('Engineering Tweets by Gender')\n",
    "plt.xlabel('Gender')\n",
    "plt.gca().yaxis.set_major_formatter(mtick.PercentFormatter(1.0))\n",
    "xticks(rotation=0)\n",
    "\n",
    "plt.subplot(1, 4, 4)\n",
    "math_df.Gender.value_counts(normalize=True).plot(kind = 'bar')\n",
    "plt.title('Mathematics Tweets by Gender')\n",
    "plt.xlabel('Gender')\n",
    "xticks(rotation=0)\n",
    "\n",
    "plt.gca().yaxis.set_major_formatter(mtick.PercentFormatter(1.0))\n",
    "\n",
    "plt.show()"
   ]
  },
  {
   "cell_type": "markdown",
   "metadata": {},
   "source": [
    "## Website/data copyright considerations\n",
    "> Even though Tweets are protected under copyright, this is an academic exercise and, as such, scraping Tweet data from Twitter does not violate copyright laws.\n"
   ]
  }
 ],
 "metadata": {
  "kernelspec": {
   "display_name": "Python 3",
   "language": "python",
   "name": "python3"
  },
  "language_info": {
   "codemirror_mode": {
    "name": "ipython",
    "version": 3
   },
   "file_extension": ".py",
   "mimetype": "text/x-python",
   "name": "python",
   "nbconvert_exporter": "python",
   "pygments_lexer": "ipython3",
   "version": "3.8.3"
  }
 },
 "nbformat": 4,
 "nbformat_minor": 4
}
