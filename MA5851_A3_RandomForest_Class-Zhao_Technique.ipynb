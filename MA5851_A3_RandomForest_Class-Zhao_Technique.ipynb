{
 "cells": [
  {
   "cell_type": "code",
   "execution_count": 6,
   "metadata": {},
   "outputs": [],
   "source": [
    "import numpy as np\n",
    "import matplotlib.pyplot as plt\n",
    "import pandas as pd\n",
    "import re\n",
    "import string\n",
    "import pickle\n",
    "import seaborn as sns\n",
    "from textblob import TextBlob\n",
    "\n",
    "import nltk\n",
    "from nltk.stem import WordNetLemmatizer\n",
    "from nltk.corpus import stopwords\n",
    "\n",
    "from sklearn.model_selection import train_test_split\n",
    "from sklearn.feature_extraction.text import CountVectorizer\n",
    "from sklearn.feature_extraction.text import TfidfTransformer\n",
    "from sklearn.ensemble import RandomForestClassifier\n",
    "from sklearn.metrics import classification_report, confusion_matrix, accuracy_score\n",
    "from sklearn.model_selection import train_test_split\n",
    "from sklearn.model_selection import validation_curve\n",
    "\n",
    "from matplotlib.pyplot import figure"
   ]
  },
  {
   "cell_type": "markdown",
   "metadata": {},
   "source": [
    "### Random Forest Classification with Unbalanced data"
   ]
  },
  {
   "cell_type": "code",
   "execution_count": 9,
   "metadata": {},
   "outputs": [
    {
     "data": {
      "text/plain": [
       "50330"
      ]
     },
     "execution_count": 9,
     "metadata": {},
     "output_type": "execute_result"
    }
   ],
   "source": [
    "# Read the dataset\n",
    "df = pd.read_csv(\"tweets_df_with_gender.csv\")\n",
    "df[\"Tweet\"] = df[\"Text\"]\n",
    "df[\"Target\"] = df[\"Gender\"]\n",
    "df = df[[\"Handle\",\"Tweet\", \"Target\"]]\n",
    "df = df.replace(to_replace = \"F\", value = 1)\n",
    "df = df.replace(to_replace = \"M\", value = 0)\n",
    "\n",
    "\n",
    "df1 = df.copy(deep=True)\n",
    "df1 = df1.replace(to_replace = 0, value = 3)\n",
    "df1 = df1.replace(to_replace = 1, value = 0)\n",
    "df1 = df1.replace(to_replace = 3, value = 1)\n",
    "\n",
    "\n",
    "# merge datasets\n",
    "df = pd.concat([df, df1], ignore_index=True)\n",
    "len(df)"
   ]
  },
  {
   "cell_type": "code",
   "execution_count": 12,
   "metadata": {},
   "outputs": [
    {
     "data": {
      "text/html": [
       "<div>\n",
       "<style scoped>\n",
       "    .dataframe tbody tr th:only-of-type {\n",
       "        vertical-align: middle;\n",
       "    }\n",
       "\n",
       "    .dataframe tbody tr th {\n",
       "        vertical-align: top;\n",
       "    }\n",
       "\n",
       "    .dataframe thead th {\n",
       "        text-align: right;\n",
       "    }\n",
       "</style>\n",
       "<table border=\"1\" class=\"dataframe\">\n",
       "  <thead>\n",
       "    <tr style=\"text-align: right;\">\n",
       "      <th></th>\n",
       "      <th>Handle</th>\n",
       "      <th>Tweet</th>\n",
       "      <th>Target</th>\n",
       "    </tr>\n",
       "  </thead>\n",
       "  <tbody>\n",
       "    <tr>\n",
       "      <th>0</th>\n",
       "      <td>@AngiMaryssa</td>\n",
       "      <td>Blackwell is great As a lawyer you have to bec...</td>\n",
       "      <td>0</td>\n",
       "    </tr>\n",
       "    <tr>\n",
       "      <th>1</th>\n",
       "      <td>@thiccbb69</td>\n",
       "      <td>math dumb af if ymxb then ytf dont she love me</td>\n",
       "      <td>1</td>\n",
       "    </tr>\n",
       "    <tr>\n",
       "      <th>2</th>\n",
       "      <td>@JaredEHalpern</td>\n",
       "      <td>Wow he was a hell of an engineer Grant Imahara...</td>\n",
       "      <td>0</td>\n",
       "    </tr>\n",
       "    <tr>\n",
       "      <th>3</th>\n",
       "      <td>@BobBrigham</td>\n",
       "      <td>Matt Kelley is so bad he thinks coronavirus is...</td>\n",
       "      <td>0</td>\n",
       "    </tr>\n",
       "    <tr>\n",
       "      <th>4</th>\n",
       "      <td>@AlaskanTzar</td>\n",
       "      <td>he was</td>\n",
       "      <td>0</td>\n",
       "    </tr>\n",
       "    <tr>\n",
       "      <th>...</th>\n",
       "      <td>...</td>\n",
       "      <td>...</td>\n",
       "      <td>...</td>\n",
       "    </tr>\n",
       "    <tr>\n",
       "      <th>50315</th>\n",
       "      <td>@ElSandifer</td>\n",
       "      <td>My view on this has evolved especially David p...</td>\n",
       "      <td>1</td>\n",
       "    </tr>\n",
       "    <tr>\n",
       "      <th>50316</th>\n",
       "      <td>@ShimadaMinami_</td>\n",
       "      <td>she is very slow when it comes to Japanese gra...</td>\n",
       "      <td>0</td>\n",
       "    </tr>\n",
       "    <tr>\n",
       "      <th>50317</th>\n",
       "      <td>@Sisyphus_smokes</td>\n",
       "      <td>and 2 othersOr a political scientist She a c...</td>\n",
       "      <td>0</td>\n",
       "    </tr>\n",
       "    <tr>\n",
       "      <th>50318</th>\n",
       "      <td>@HumanBe64947926</td>\n",
       "      <td>and  many ways he did He learned from the sc...</td>\n",
       "      <td>1</td>\n",
       "    </tr>\n",
       "    <tr>\n",
       "      <th>50319</th>\n",
       "      <td>@Milliganz5</td>\n",
       "      <td>the  not the science  She mandated schools to...</td>\n",
       "      <td>0</td>\n",
       "    </tr>\n",
       "  </tbody>\n",
       "</table>\n",
       "<p>50320 rows × 3 columns</p>\n",
       "</div>"
      ],
      "text/plain": [
       "                 Handle                                              Tweet  \\\n",
       "0          @AngiMaryssa  Blackwell is great As a lawyer you have to bec...   \n",
       "1            @thiccbb69     math dumb af if ymxb then ytf dont she love me   \n",
       "2        @JaredEHalpern  Wow he was a hell of an engineer Grant Imahara...   \n",
       "3           @BobBrigham  Matt Kelley is so bad he thinks coronavirus is...   \n",
       "4          @AlaskanTzar                                             he was   \n",
       "...                 ...                                                ...   \n",
       "50315       @ElSandifer  My view on this has evolved especially David p...   \n",
       "50316   @ShimadaMinami_  she is very slow when it comes to Japanese gra...   \n",
       "50317  @Sisyphus_smokes    and 2 othersOr a political scientist She a c...   \n",
       "50318  @HumanBe64947926    and  many ways he did He learned from the sc...   \n",
       "50319       @Milliganz5   the  not the science  She mandated schools to...   \n",
       "\n",
       "       Target  \n",
       "0           0  \n",
       "1           1  \n",
       "2           0  \n",
       "3           0  \n",
       "4           0  \n",
       "...       ...  \n",
       "50315       1  \n",
       "50316       0  \n",
       "50317       0  \n",
       "50318       1  \n",
       "50319       0  \n",
       "\n",
       "[50320 rows x 3 columns]"
      ]
     },
     "execution_count": 12,
     "metadata": {},
     "output_type": "execute_result"
    }
   ],
   "source": [
    "df.head(-10)"
   ]
  },
  {
   "cell_type": "code",
   "execution_count": 13,
   "metadata": {},
   "outputs": [],
   "source": [
    "X = df.iloc[:,1:].values\n",
    "y = df.iloc[:,2:].values"
   ]
  },
  {
   "cell_type": "code",
   "execution_count": 14,
   "metadata": {},
   "outputs": [],
   "source": [
    "documents = []\n",
    "\n",
    "from nltk.stem import WordNetLemmatizer\n",
    "\n",
    "stemmer = WordNetLemmatizer()\n",
    "\n",
    "for sen in range(0, len(X)):\n",
    "    # Remove all the special characters\n",
    "    document = re.sub(r'\\W', ' ', str(X[sen])) \n",
    "    # remove all single characters\n",
    "    document = re.sub(r'\\s+[a-zA-Z]\\s+', ' ', document)  \n",
    "    # Remove single characters from the start\n",
    "    document = re.sub(r'\\^[a-zA-Z]\\s+', ' ', document)   \n",
    "    # Substituting multiple spaces with single space\n",
    "    document = re.sub(r'\\s+', ' ', document, flags=re.I)   \n",
    "    # Removing prefixed 'b'\n",
    "    document = re.sub(r'^b\\s+', '', document)   \n",
    "    # Converting to Lowercase\n",
    "    document = document.lower()  \n",
    "    \n",
    "    # Lemmatization\n",
    "    document = document.split()\n",
    "    document = [stemmer.lemmatize(word) for word in document]\n",
    "    document = ' '.join(document)\n",
    "    \n",
    "    documents.append(document)"
   ]
  },
  {
   "cell_type": "code",
   "execution_count": 15,
   "metadata": {},
   "outputs": [],
   "source": [
    "# Create vocabularies\n",
    "from sklearn.feature_extraction.text import TfidfVectorizer\n",
    "tfidfconverter = TfidfVectorizer(max_features=1500, min_df=5, max_df=0.7, stop_words=stopwords.words('english'))\n",
    "X = tfidfconverter.fit_transform(documents).toarray()"
   ]
  },
  {
   "cell_type": "code",
   "execution_count": 16,
   "metadata": {},
   "outputs": [],
   "source": [
    "# Split train and test (80/20)\n",
    "X_train, X_test, y_train, y_test = train_test_split(X, y, test_size=0.2, stratify = y)"
   ]
  },
  {
   "cell_type": "code",
   "execution_count": 17,
   "metadata": {},
   "outputs": [],
   "source": [
    "# Apply the classifier using the hyperparameters defined in part 1\n",
    "classifier = RandomForestClassifier(n_estimators=900, max_depth = 200, min_samples_split = 2, min_samples_leaf = 1, random_state=0)\n",
    "model = classifier.fit(X_train, y_train.ravel()) \n",
    "\n",
    "y_pred = model.predict(X_test)"
   ]
  },
  {
   "cell_type": "code",
   "execution_count": 18,
   "metadata": {},
   "outputs": [
    {
     "name": "stdout",
     "output_type": "stream",
     "text": [
      "Confusion matrix:\n",
      "[[ 556 4477]\n",
      " [4474  559]]\n",
      " \n",
      " \n",
      "Classification report:\n",
      "              precision    recall  f1-score   support\n",
      "\n",
      "           0       0.11      0.11      0.11      5033\n",
      "           1       0.11      0.11      0.11      5033\n",
      "\n",
      "    accuracy                           0.11     10066\n",
      "   macro avg       0.11      0.11      0.11     10066\n",
      "weighted avg       0.11      0.11      0.11     10066\n",
      "\n",
      " \n",
      "Accuracy score: 0.11076892509437711\n"
     ]
    }
   ],
   "source": [
    "print(\"Confusion matrix:\")\n",
    "print(confusion_matrix(y_test,y_pred))\n",
    "print(\" \")\n",
    "print(\" \")\n",
    "print(\"Classification report:\") \n",
    "print(classification_report(y_test,y_pred))\n",
    "print(\" \")\n",
    "print(\"Accuracy score:\", accuracy_score(y_test, y_pred))"
   ]
  },
  {
   "cell_type": "code",
   "execution_count": 19,
   "metadata": {
    "scrolled": false
   },
   "outputs": [
    {
     "data": {
      "image/png": "[encoded data removed]",
      "text/plain": [
       "<Figure size 1152x504 with 2 Axes>"
      ]
     },
     "metadata": {
      "needs_background": "light"
     },
     "output_type": "display_data"
    }
   ],
   "source": [
    "# Get and reshape confusion matrix data\n",
    "matrix = confusion_matrix(y_test, y_pred)\n",
    "matrix = matrix.astype('float') / matrix.sum(axis=1)[:, np.newaxis]\n",
    "\n",
    "# Build the plot\n",
    "plt.figure(figsize=(16,7))\n",
    "sns.set(font_scale=1.4)\n",
    "sns.heatmap(matrix, annot=True, annot_kws={'size':10},\n",
    "            cmap=plt.cm.Blues, linewidths=0.2)\n",
    "\n",
    "# Add labels to the plot\n",
    "class_names = ['Male', 'Female']\n",
    "tick_marks = np.arange(len(class_names))\n",
    "tick_marks2 = tick_marks + 0.5\n",
    "plt.xticks(tick_marks2, class_names, rotation=0)\n",
    "plt.yticks(tick_marks2, class_names, rotation=0)\n",
    "plt.xlabel('Predicted label')\n",
    "plt.ylabel('True label')\n",
    "plt.title('Confusion Matrix for Random Forest Model')\n",
    "plt.show()\n",
    "\n",
    "# "
   ]
  },
  {
   "cell_type": "code",
   "execution_count": null,
   "metadata": {},
   "outputs": [],
   "source": []
  }
 ],
 "metadata": {
  "kernelspec": {
   "display_name": "Python 3",
   "language": "python",
   "name": "python3"
  },
  "language_info": {
   "codemirror_mode": {
    "name": "ipython",
    "version": 3
   },
   "file_extension": ".py",
   "mimetype": "text/x-python",
   "name": "python",
   "nbconvert_exporter": "python",
   "pygments_lexer": "ipython3",
   "version": "3.8.3"
  }
 },
 "nbformat": 4,
 "nbformat_minor": 4
}
