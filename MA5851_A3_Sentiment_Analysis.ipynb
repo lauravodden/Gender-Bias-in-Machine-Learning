{
 "cells": [
  {
   "cell_type": "code",
   "execution_count": 31,
   "metadata": {},
   "outputs": [],
   "source": [
    "import pandas as pd\n",
    "import nltk\n",
    "from nltk.sentiment.vader import SentimentIntensityAnalyzer\n",
    "import matplotlib.pyplot as plt\n",
    "%matplotlib inline \n",
    "\n"
   ]
  },
  {
   "cell_type": "code",
   "execution_count": 32,
   "metadata": {},
   "outputs": [],
   "source": [
    "df = pd.read_csv('tweets_df.csv')"
   ]
  },
  {
   "cell_type": "code",
   "execution_count": 33,
   "metadata": {},
   "outputs": [
    {
     "data": {
      "text/html": [
       "<div>\n",
       "<style scoped>\n",
       "    .dataframe tbody tr th:only-of-type {\n",
       "        vertical-align: middle;\n",
       "    }\n",
       "\n",
       "    .dataframe tbody tr th {\n",
       "        vertical-align: top;\n",
       "    }\n",
       "\n",
       "    .dataframe thead th {\n",
       "        text-align: right;\n",
       "    }\n",
       "</style>\n",
       "<table border=\"1\" class=\"dataframe\">\n",
       "  <thead>\n",
       "    <tr style=\"text-align: right;\">\n",
       "      <th></th>\n",
       "      <th>Handle</th>\n",
       "      <th>Text</th>\n",
       "      <th>Likes</th>\n",
       "      <th>Gender</th>\n",
       "      <th>Topic</th>\n",
       "    </tr>\n",
       "  </thead>\n",
       "  <tbody>\n",
       "    <tr>\n",
       "      <th>0</th>\n",
       "      <td>@Rick_Crainium</td>\n",
       "      <td>and 17 othersSorry to interrupt he Good Morn...</td>\n",
       "      <td>3.6K</td>\n",
       "      <td>M</td>\n",
       "      <td>science</td>\n",
       "    </tr>\n",
       "    <tr>\n",
       "      <th>1</th>\n",
       "      <td>@keithebae</td>\n",
       "      <td>Seongmin didnt attend a tutoring academy but h...</td>\n",
       "      <td>1</td>\n",
       "      <td>M</td>\n",
       "      <td>mathematics</td>\n",
       "    </tr>\n",
       "    <tr>\n",
       "      <th>2</th>\n",
       "      <td>@JaredLesterSmi1</td>\n",
       "      <td>and 2 othersMaybe it a lack of science educa...</td>\n",
       "      <td>0</td>\n",
       "      <td>M</td>\n",
       "      <td>science</td>\n",
       "    </tr>\n",
       "    <tr>\n",
       "      <th>3</th>\n",
       "      <td>@Elonnieee</td>\n",
       "      <td>I’m so glad my bf is smartso he can do my math...</td>\n",
       "      <td>2</td>\n",
       "      <td>M</td>\n",
       "      <td>mathematics</td>\n",
       "    </tr>\n",
       "    <tr>\n",
       "      <th>4</th>\n",
       "      <td>@MainNashville</td>\n",
       "      <td>Meet Gena Johnson who has worked with John Pri...</td>\n",
       "      <td>0</td>\n",
       "      <td>F</td>\n",
       "      <td>engineering</td>\n",
       "    </tr>\n",
       "  </tbody>\n",
       "</table>\n",
       "</div>"
      ],
      "text/plain": [
       "             Handle                                               Text Likes  \\\n",
       "0    @Rick_Crainium    and 17 othersSorry to interrupt he Good Morn...  3.6K   \n",
       "1        @keithebae  Seongmin didnt attend a tutoring academy but h...     1   \n",
       "2  @JaredLesterSmi1    and 2 othersMaybe it a lack of science educa...     0   \n",
       "3        @Elonnieee  I’m so glad my bf is smartso he can do my math...     2   \n",
       "4    @MainNashville  Meet Gena Johnson who has worked with John Pri...     0   \n",
       "\n",
       "  Gender        Topic  \n",
       "0      M      science  \n",
       "1      M  mathematics  \n",
       "2      M      science  \n",
       "3      M  mathematics  \n",
       "4      F  engineering  "
      ]
     },
     "execution_count": 33,
     "metadata": {},
     "output_type": "execute_result"
    }
   ],
   "source": [
    "df.head()"
   ]
  },
  {
   "cell_type": "code",
   "execution_count": 34,
   "metadata": {},
   "outputs": [],
   "source": [
    "sid = SentimentIntensityAnalyzer()\n",
    "semtiment_polarity = df.apply(lambda r: sid.polarity_scores(r.Text), axis=1)"
   ]
  },
  {
   "cell_type": "code",
   "execution_count": 35,
   "metadata": {},
   "outputs": [],
   "source": [
    "# turn the result into a data frame and add as columns to the original data\n",
    "sentiment_df = pd.DataFrame(list(semtiment_polarity))\n",
    "Tweet_sentiment = df.join(sentiment_df)\n"
   ]
  },
  {
   "cell_type": "code",
   "execution_count": 36,
   "metadata": {},
   "outputs": [
    {
     "data": {
      "text/html": [
       "<div>\n",
       "<style scoped>\n",
       "    .dataframe tbody tr th:only-of-type {\n",
       "        vertical-align: middle;\n",
       "    }\n",
       "\n",
       "    .dataframe tbody tr th {\n",
       "        vertical-align: top;\n",
       "    }\n",
       "\n",
       "    .dataframe thead th {\n",
       "        text-align: right;\n",
       "    }\n",
       "</style>\n",
       "<table border=\"1\" class=\"dataframe\">\n",
       "  <thead>\n",
       "    <tr style=\"text-align: right;\">\n",
       "      <th></th>\n",
       "      <th>Handle</th>\n",
       "      <th>Text</th>\n",
       "      <th>Likes</th>\n",
       "      <th>Gender</th>\n",
       "      <th>Topic</th>\n",
       "      <th>neg</th>\n",
       "      <th>neu</th>\n",
       "      <th>pos</th>\n",
       "      <th>compound</th>\n",
       "    </tr>\n",
       "  </thead>\n",
       "  <tbody>\n",
       "    <tr>\n",
       "      <th>0</th>\n",
       "      <td>@Rick_Crainium</td>\n",
       "      <td>and 17 othersSorry to interrupt he Good Morn...</td>\n",
       "      <td>3.6K</td>\n",
       "      <td>M</td>\n",
       "      <td>science</td>\n",
       "      <td>0.114</td>\n",
       "      <td>0.737</td>\n",
       "      <td>0.149</td>\n",
       "      <td>0.3182</td>\n",
       "    </tr>\n",
       "    <tr>\n",
       "      <th>1</th>\n",
       "      <td>@keithebae</td>\n",
       "      <td>Seongmin didnt attend a tutoring academy but h...</td>\n",
       "      <td>1</td>\n",
       "      <td>M</td>\n",
       "      <td>mathematics</td>\n",
       "      <td>0.000</td>\n",
       "      <td>1.000</td>\n",
       "      <td>0.000</td>\n",
       "      <td>0.0000</td>\n",
       "    </tr>\n",
       "    <tr>\n",
       "      <th>2</th>\n",
       "      <td>@JaredLesterSmi1</td>\n",
       "      <td>and 2 othersMaybe it a lack of science educa...</td>\n",
       "      <td>0</td>\n",
       "      <td>M</td>\n",
       "      <td>science</td>\n",
       "      <td>0.219</td>\n",
       "      <td>0.662</td>\n",
       "      <td>0.119</td>\n",
       "      <td>-0.7396</td>\n",
       "    </tr>\n",
       "    <tr>\n",
       "      <th>3</th>\n",
       "      <td>@Elonnieee</td>\n",
       "      <td>I’m so glad my bf is smartso he can do my math...</td>\n",
       "      <td>2</td>\n",
       "      <td>M</td>\n",
       "      <td>mathematics</td>\n",
       "      <td>0.000</td>\n",
       "      <td>0.798</td>\n",
       "      <td>0.202</td>\n",
       "      <td>0.5095</td>\n",
       "    </tr>\n",
       "    <tr>\n",
       "      <th>4</th>\n",
       "      <td>@MainNashville</td>\n",
       "      <td>Meet Gena Johnson who has worked with John Pri...</td>\n",
       "      <td>0</td>\n",
       "      <td>F</td>\n",
       "      <td>engineering</td>\n",
       "      <td>0.000</td>\n",
       "      <td>0.950</td>\n",
       "      <td>0.050</td>\n",
       "      <td>0.5423</td>\n",
       "    </tr>\n",
       "  </tbody>\n",
       "</table>\n",
       "</div>"
      ],
      "text/plain": [
       "             Handle                                               Text Likes  \\\n",
       "0    @Rick_Crainium    and 17 othersSorry to interrupt he Good Morn...  3.6K   \n",
       "1        @keithebae  Seongmin didnt attend a tutoring academy but h...     1   \n",
       "2  @JaredLesterSmi1    and 2 othersMaybe it a lack of science educa...     0   \n",
       "3        @Elonnieee  I’m so glad my bf is smartso he can do my math...     2   \n",
       "4    @MainNashville  Meet Gena Johnson who has worked with John Pri...     0   \n",
       "\n",
       "  Gender        Topic    neg    neu    pos  compound  \n",
       "0      M      science  0.114  0.737  0.149    0.3182  \n",
       "1      M  mathematics  0.000  1.000  0.000    0.0000  \n",
       "2      M      science  0.219  0.662  0.119   -0.7396  \n",
       "3      M  mathematics  0.000  0.798  0.202    0.5095  \n",
       "4      F  engineering  0.000  0.950  0.050    0.5423  "
      ]
     },
     "execution_count": 36,
     "metadata": {},
     "output_type": "execute_result"
    }
   ],
   "source": [
    "Tweet_sentiment.head()"
   ]
  },
  {
   "cell_type": "code",
   "execution_count": 37,
   "metadata": {},
   "outputs": [
    {
     "data": {
      "text/html": [
       "<div>\n",
       "<style scoped>\n",
       "    .dataframe tbody tr th:only-of-type {\n",
       "        vertical-align: middle;\n",
       "    }\n",
       "\n",
       "    .dataframe tbody tr th {\n",
       "        vertical-align: top;\n",
       "    }\n",
       "\n",
       "    .dataframe thead th {\n",
       "        text-align: right;\n",
       "    }\n",
       "</style>\n",
       "<table border=\"1\" class=\"dataframe\">\n",
       "  <thead>\n",
       "    <tr style=\"text-align: right;\">\n",
       "      <th></th>\n",
       "      <th>Handle</th>\n",
       "      <th>Text</th>\n",
       "      <th>Likes</th>\n",
       "      <th>Gender</th>\n",
       "      <th>Topic</th>\n",
       "      <th>neg</th>\n",
       "      <th>neu</th>\n",
       "      <th>pos</th>\n",
       "      <th>compound</th>\n",
       "      <th>sentiment</th>\n",
       "    </tr>\n",
       "  </thead>\n",
       "  <tbody>\n",
       "    <tr>\n",
       "      <th>0</th>\n",
       "      <td>@Rick_Crainium</td>\n",
       "      <td>and 17 othersSorry to interrupt he Good Morn...</td>\n",
       "      <td>3.6K</td>\n",
       "      <td>M</td>\n",
       "      <td>science</td>\n",
       "      <td>0.114</td>\n",
       "      <td>0.737</td>\n",
       "      <td>0.149</td>\n",
       "      <td>0.3182</td>\n",
       "      <td>positive</td>\n",
       "    </tr>\n",
       "    <tr>\n",
       "      <th>1</th>\n",
       "      <td>@keithebae</td>\n",
       "      <td>Seongmin didnt attend a tutoring academy but h...</td>\n",
       "      <td>1</td>\n",
       "      <td>M</td>\n",
       "      <td>mathematics</td>\n",
       "      <td>0.000</td>\n",
       "      <td>1.000</td>\n",
       "      <td>0.000</td>\n",
       "      <td>0.0000</td>\n",
       "      <td>neutral</td>\n",
       "    </tr>\n",
       "    <tr>\n",
       "      <th>2</th>\n",
       "      <td>@JaredLesterSmi1</td>\n",
       "      <td>and 2 othersMaybe it a lack of science educa...</td>\n",
       "      <td>0</td>\n",
       "      <td>M</td>\n",
       "      <td>science</td>\n",
       "      <td>0.219</td>\n",
       "      <td>0.662</td>\n",
       "      <td>0.119</td>\n",
       "      <td>-0.7396</td>\n",
       "      <td>negative</td>\n",
       "    </tr>\n",
       "    <tr>\n",
       "      <th>3</th>\n",
       "      <td>@Elonnieee</td>\n",
       "      <td>I’m so glad my bf is smartso he can do my math...</td>\n",
       "      <td>2</td>\n",
       "      <td>M</td>\n",
       "      <td>mathematics</td>\n",
       "      <td>0.000</td>\n",
       "      <td>0.798</td>\n",
       "      <td>0.202</td>\n",
       "      <td>0.5095</td>\n",
       "      <td>positive</td>\n",
       "    </tr>\n",
       "    <tr>\n",
       "      <th>4</th>\n",
       "      <td>@MainNashville</td>\n",
       "      <td>Meet Gena Johnson who has worked with John Pri...</td>\n",
       "      <td>0</td>\n",
       "      <td>F</td>\n",
       "      <td>engineering</td>\n",
       "      <td>0.000</td>\n",
       "      <td>0.950</td>\n",
       "      <td>0.050</td>\n",
       "      <td>0.5423</td>\n",
       "      <td>positive</td>\n",
       "    </tr>\n",
       "  </tbody>\n",
       "</table>\n",
       "</div>"
      ],
      "text/plain": [
       "             Handle                                               Text Likes  \\\n",
       "0    @Rick_Crainium    and 17 othersSorry to interrupt he Good Morn...  3.6K   \n",
       "1        @keithebae  Seongmin didnt attend a tutoring academy but h...     1   \n",
       "2  @JaredLesterSmi1    and 2 othersMaybe it a lack of science educa...     0   \n",
       "3        @Elonnieee  I’m so glad my bf is smartso he can do my math...     2   \n",
       "4    @MainNashville  Meet Gena Johnson who has worked with John Pri...     0   \n",
       "\n",
       "  Gender        Topic    neg    neu    pos  compound sentiment  \n",
       "0      M      science  0.114  0.737  0.149    0.3182  positive  \n",
       "1      M  mathematics  0.000  1.000  0.000    0.0000   neutral  \n",
       "2      M      science  0.219  0.662  0.119   -0.7396  negative  \n",
       "3      M  mathematics  0.000  0.798  0.202    0.5095  positive  \n",
       "4      F  engineering  0.000  0.950  0.050    0.5423  positive  "
      ]
     },
     "execution_count": 37,
     "metadata": {},
     "output_type": "execute_result"
    }
   ],
   "source": [
    "def sentiment (row):\n",
    "    if row['compound'] >= 0.05 :\n",
    "        return 'positive'\n",
    "    elif row['compound'] <= -0.05 :\n",
    "        return 'negative'\n",
    "    else :\n",
    "        return 'neutral'\n",
    "    \n",
    "Tweet_sentiment['sentiment'] = Tweet_sentiment.apply (lambda row: sentiment(row), axis=1)\n",
    "\n",
    "Tweet_sentiment.head()"
   ]
  },
  {
   "cell_type": "code",
   "execution_count": 38,
   "metadata": {},
   "outputs": [
    {
     "name": "stdout",
     "output_type": "stream",
     "text": [
      "6.0\n",
      "4.0\n"
     ]
    }
   ],
   "source": [
    "plot_size = plt.rcParams[\"figure.figsize\"] \n",
    "print(plot_size[0]) \n",
    "print(plot_size[1])\n",
    "\n",
    "plot_size[0] = 8\n",
    "plot_size[1] = 6\n",
    "plt.rcParams[\"figure.figsize\"] = plot_size "
   ]
  },
  {
   "cell_type": "code",
   "execution_count": 39,
   "metadata": {},
   "outputs": [
    {
     "name": "stdout",
     "output_type": "stream",
     "text": [
      "Interpretation: Figure 2 shows that STEM tweets about women have a slightly more positive overall sentiment than STEM tweets about men\n"
     ]
    },
    {
     "data": {
      "image/png": "[encoded data removed]",
      "text/plain": [
       "<Figure size 576x432 with 1 Axes>"
      ]
     },
     "metadata": {
      "needs_background": "light"
     },
     "output_type": "display_data"
    }
   ],
   "source": [
    "sentiment = Tweet_sentiment.groupby(['Gender', 'sentiment']).sentiment.count().unstack()\n",
    "sentiment.plot(kind='bar')\n",
    "plt.title('Tweet Sentiment by gender')\n",
    "plt.xlabel('Gender')\n",
    "plt.ylabel('Tweet count')\n",
    "plt.xticks(rotation = 0)\n",
    "\n",
    "print(\"\"\"Interpretation: Figure 2 shows that STEM tweets about women have a slightly more positive overall sentiment than STEM tweets about men\"\"\")"
   ]
  },
  {
   "cell_type": "code",
   "execution_count": 40,
   "metadata": {},
   "outputs": [
    {
     "data": {
      "image/png": "[encoded data removed]",
      "text/plain": [
       "<Figure size 1000x1000 with 2 Axes>"
      ]
     },
     "metadata": {},
     "output_type": "display_data"
    }
   ],
   "source": [
    "df_M = Tweet_sentiment.loc[df['Gender']== \"M\"]\n",
    "df_F = Tweet_sentiment.loc[df['Gender']==\"F\"]\n",
    "\n",
    "import matplotlib\n",
    "import matplotlib.pyplot as plt\n",
    "from matplotlib.pyplot import figure\n",
    "\n",
    "labels = ['Negative', 'Neutral', 'Positive']\n",
    "\n",
    "figure(figsize=(10, 10), dpi=100)\n",
    "\n",
    "                        \n",
    "plt.subplot(1, 2, 1)\n",
    "df_M.groupby(['Gender', 'sentiment']).sentiment.count().plot(kind='pie', autopct='%1.0f%%', labels=labels, colors=[\"red\", \"yellow\", \"green\"])\n",
    "matplotlib.pyplot.title(label=\"Male subject STEM tweet sentment\", fontdict=None, loc='center', pad=None)\n",
    "\n",
    "plt.subplot(1, 2, 2)\n",
    "df_F.groupby(['Gender', 'sentiment']).sentiment.count().plot(kind='pie', autopct='%1.0f%%', labels=labels, colors=[\"red\", \"yellow\", \"green\"])\n",
    "matplotlib.pyplot.title(label=\"Female subject STEM tweet sentment\", fontdict=None, loc='center', pad=None)\n",
    "\n",
    "plt.show()"
   ]
  }
 ],
 "metadata": {
  "kernelspec": {
   "display_name": "Python 3",
   "language": "python",
   "name": "python3"
  },
  "language_info": {
   "codemirror_mode": {
    "name": "ipython",
    "version": 3
   },
   "file_extension": ".py",
   "mimetype": "text/x-python",
   "name": "python",
   "nbconvert_exporter": "python",
   "pygments_lexer": "ipython3",
   "version": "3.8.3"
  }
 },
 "nbformat": 4,
 "nbformat_minor": 4
}
